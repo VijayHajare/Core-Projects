{
  "nbformat": 4,
  "nbformat_minor": 0,
  "metadata": {
    "colab": {
      "name": "Bending.ipynb",
      "provenance": []
    },
    "kernelspec": {
      "name": "python3",
      "display_name": "Python 3"
    },
    "language_info": {
      "name": "python"
    }
  },
  "cells": [
    {
      "cell_type": "code",
      "execution_count": 21,
      "metadata": {
        "id": "kzr-rBiQuom4"
      },
      "outputs": [],
      "source": [
        "import numpy as np\n",
        "import matplotlib.pyplot as plt\n",
        "import math \n",
        "from scipy.optimize import fsolve "
      ]
    },
    {
      "cell_type": "code",
      "source": [
        "E = 210000\n",
        "sy = 250\n",
        "l = 500\n",
        "ey = sy/E\n",
        "wy = (8*ey*E*(0.1*l)*(0.1*l)**2)/(3*(l)**2)\n",
        "print(wy)\n",
        "xy = np.sqrt(l**2 - (sy*(4/3)*(0.1*l)**3)/wy)\n",
        "print(xy)"
      ],
      "metadata": {
        "colab": {
          "base_uri": "https://localhost:8080/"
        },
        "id": "3dIXzg7VRG60",
        "outputId": "5b38a34f-0be1-478b-f8ad-ea325509df00"
      },
      "execution_count": 22,
      "outputs": [
        {
          "output_type": "stream",
          "name": "stdout",
          "text": [
            "333.33333333333337\n",
            "353.5533905932738\n"
          ]
        }
      ]
    },
    {
      "cell_type": "code",
      "source": [
        "w = wy\n",
        "x = xy\n",
        "a = ((w*10000)/(32*E*l**4))*(6*(l**2)*(x**2)- (x**4) -  5*(l**4))\n",
        "print(a)"
      ],
      "metadata": {
        "id": "ERf1tKU_ld84",
        "colab": {
          "base_uri": "https://localhost:8080/"
        },
        "outputId": "0496f69e-21c9-4348-c7d3-b3b6ea6411bb"
      },
      "execution_count": 23,
      "outputs": [
        {
          "output_type": "stream",
          "name": "stdout",
          "text": [
            "-1.1160714285714284\n"
          ]
        }
      ]
    },
    {
      "cell_type": "code",
      "source": [
        "X = np.linspace(0,xy, 500)\n",
        "w = wy\n",
        "yp = []\n",
        "for x in X:\n",
        "\n",
        "  y = -(4951760157141521099596496896000000000*w - 57266230613333325*5726623061333333**(1/2)*(15474250491067253436239052800000 - 15474250491067252292498903239*w)**(1/2) + 20148763660243816646405259264*5726623061333333**(1/2)*(w*x**2 - 250000*w + 125000000)**(1/2) - (7123663708341742685538816008175*5726623061333333**(1/2)*w**(1/2)*math.log(125000000 - 250000*w))/2 + 7123663708341742685538816008175*5726623061333333**(1/2)*w**(1/2)*math.log((25*(15474250491067253436239052800000 - 15474250491067252292498903239*w)**(1/2))/8796093022208 + (3109888511975475*w**(1/2))/8796093022208) + 10074381830121908323202629632*5726623061333333**(1/2)*w**(1/2)*x*math.log(125000000 - 250000*w) - 20148763660243816646405259264*5726623061333333**(1/2)*w**(1/2)*x*math.log((w*x**2 - 250000*w + 125000000)**(1/2) + w**(1/2)*x))/(4436777100798802905238461218816000000*w)\n",
        "  yp.append(y)"
      ],
      "metadata": {
        "id": "20RcRqtCJd9X"
      },
      "execution_count": 24,
      "outputs": []
    },
    {
      "cell_type": "code",
      "source": [
        "Ye = []\n",
        "Xe = np.linspace(xy,500,1000)\n",
        "for x in Xe:\n",
        "  y =((w*10000)/(32*E*l**4))*(6*(l**2)*(x**2)- (x**4) -  5*(l**4))\n",
        "  Ye.append(y)"
      ],
      "metadata": {
        "id": "d6FDAxagtruB"
      },
      "execution_count": 25,
      "outputs": []
    },
    {
      "cell_type": "code",
      "source": [
        "max = print(\"The max displacement is for wy \", yp[0] )"
      ],
      "metadata": {
        "id": "Mjax9VoFfe5_",
        "outputId": "a55a21ac-07c7-4cff-8181-6635e8167a78",
        "colab": {
          "base_uri": "https://localhost:8080/"
        }
      },
      "execution_count": 26,
      "outputs": [
        {
          "output_type": "stream",
          "name": "stdout",
          "text": [
            "The max displacement is for wy  -4.225004677023612\n"
          ]
        }
      ]
    },
    {
      "cell_type": "code",
      "source": [
        "plt.plot(list(X)+list(Xe), yp+Ye)\n",
        "\n",
        "plt.xlabel(\"Distance along length\")\n",
        "plt.ylabel( \" Displacement \")\n",
        "plt.title(\" Displacement Profile for half of the beam  for w=wy\")\n",
        "plt.grid()\n",
        "plt.show()"
      ],
      "metadata": {
        "id": "uYxBEDiJRYft",
        "colab": {
          "base_uri": "https://localhost:8080/",
          "height": 294
        },
        "outputId": "bbe71afc-1c58-4834-a94e-e74ee3404ef3"
      },
      "execution_count": 27,
      "outputs": [
        {
          "output_type": "display_data",
          "data": {
            "text/plain": [
              "<Figure size 432x288 with 1 Axes>"
            ],
            "image/png": "[encoded data removed]"
          },
          "metadata": {
            "needs_background": "light"
          }
        }
      ]
    },
    {
      "cell_type": "markdown",
      "source": [
        "FOR 1.2Wy"
      ],
      "metadata": {
        "id": "LjiAv-NSTMqf"
      }
    },
    {
      "cell_type": "code",
      "source": [
        "E = 210000\n",
        "sy = 250\n",
        "l = 500\n",
        "ey = sy/E\n",
        "wy = 1.2*((8*ey*E*(0.1*l)*(0.1*l)**2)/(3*(l)**2))\n",
        "print(wy)\n",
        "xy = np.sqrt(l**2 - (sy*(4/3)*(0.1*l)**3)/wy)\n",
        "print(xy)"
      ],
      "metadata": {
        "colab": {
          "base_uri": "https://localhost:8080/"
        },
        "outputId": "90d1d5df-4452-4a55-c290-c22dd82a9b45",
        "id": "uYCjg4Ljdygl"
      },
      "execution_count": 28,
      "outputs": [
        {
          "output_type": "stream",
          "name": "stdout",
          "text": [
            "400.00000000000006\n",
            "381.8813079129867\n"
          ]
        }
      ]
    },
    {
      "cell_type": "code",
      "source": [
        "w = wy\n",
        "x = xy\n",
        "a = ((w*10000)/(32*E*l**4))*(6*(l**2)*(x**2)- (x**4) -  5*(l**4))\n",
        "print(a)"
      ],
      "metadata": {
        "colab": {
          "base_uri": "https://localhost:8080/"
        },
        "outputId": "4f33e9bb-b4c0-4b80-b50a-877656fa6e94",
        "id": "7ffz5uiRdygu"
      },
      "execution_count": 29,
      "outputs": [
        {
          "output_type": "stream",
          "name": "stdout",
          "text": [
            "-1.0954034391534386\n"
          ]
        }
      ]
    },
    {
      "cell_type": "code",
      "source": [
        "X = np.linspace(0,xy, 500)\n",
        "w = wy\n",
        "yp = []\n",
        "for x in X:\n",
        "\n",
        "  y = (1099205174200509409513147397853*5726623061333333**(1/2)*math.log(250))/12676506002282294014967032053760000000 - (2290649224533333*5726623061333333**(1/2)*(x**2 + 62500)**(1/2))/10088063165309911040000000 + (2290649224533333*92307499707285829955633443371390749651533987477**(1/2))/88735542015976058104769224376320000000 - (1099205174200509409513147397853*5726623061333333**(1/2)*math.log(16119010928195057552419094037569**(1/2)/8796093022208 + 3359063507845087/8796093022208))/12676506002282294014967032053760000000 + (2290649224533333*5726623061333333**(1/2)*x*math.log(x + (x**2 + 62500)**(1/2)))/10088063165309911040000000 - (2290649224533333*5726623061333333**(1/2)*x*math.log(250))/10088063165309911040000000 - 6625/6048\n",
        "  yp.append(y)"
      ],
      "metadata": {
        "id": "h1v4eFDFdygv"
      },
      "execution_count": 30,
      "outputs": []
    },
    {
      "cell_type": "code",
      "source": [
        "Ye = []\n",
        "Xe = np.linspace(xy,500,1000)\n",
        "for x in Xe:\n",
        "  y =((w*10000)/(32*E*l**4))*(6*(l**2)*(x**2)- (x**4) -  5*(l**4))\n",
        "  Ye.append(y)"
      ],
      "metadata": {
        "id": "lQY2hFg-dygv"
      },
      "execution_count": 31,
      "outputs": []
    },
    {
      "cell_type": "code",
      "source": [
        "max = print(\"The max displacement is for 1.2wy \", yp[0] )"
      ],
      "metadata": {
        "colab": {
          "base_uri": "https://localhost:8080/"
        },
        "id": "Mvii3vcQfOTN",
        "outputId": "9c82fab4-535e-4b33-f9b8-db639ed0b8fe"
      },
      "execution_count": 32,
      "outputs": [
        {
          "output_type": "stream",
          "name": "stdout",
          "text": [
            "The max displacement is for 1.2wy  -5.487666784833432\n"
          ]
        }
      ]
    },
    {
      "cell_type": "code",
      "source": [
        "plt.plot(list(X)+list(Xe), yp+Ye)\n",
        "\n",
        "plt.xlabel(\"Distance along length\")\n",
        "plt.ylabel( \" Displacement \")\n",
        "plt.title(\" Displacement Profile for half of the beam  for 1.2wy\")\n",
        "plt.grid()\n",
        "plt.show()"
      ],
      "metadata": {
        "colab": {
          "base_uri": "https://localhost:8080/",
          "height": 294
        },
        "outputId": "9d1b5562-d9e9-4090-82f9-9de9c7b7acc0",
        "id": "7TxU0Ia4dygv"
      },
      "execution_count": 33,
      "outputs": [
        {
          "output_type": "display_data",
          "data": {
            "text/plain": [
              "<Figure size 432x288 with 1 Axes>"
            ],
            "image/png": "[encoded data removed]"
          },
          "metadata": {
            "needs_background": "light"
          }
        }
      ]
    },
    {
      "cell_type": "markdown",
      "source": [
        "FOR 1.3Wy"
      ],
      "metadata": {
        "id": "eRCmcxWAdygw"
      }
    },
    {
      "cell_type": "code",
      "source": [
        "E = 210000\n",
        "sy = 250\n",
        "l = 500\n",
        "ey = sy/E\n",
        "wy = 1.3*((8*ey*E*(0.1*l)*(0.1*l)**2)/(3*(l)**2))\n",
        "print(wy)\n",
        "xy = np.sqrt(l**2 - (sy*(4/3)*(0.1*l)**3)/wy)\n",
        "print(xy)"
      ],
      "metadata": {
        "colab": {
          "base_uri": "https://localhost:8080/"
        },
        "outputId": "c7e2301d-7a1e-40de-bdee-a894e062ff93",
        "id": "zbfd_Wfoe0Iu"
      },
      "execution_count": 34,
      "outputs": [
        {
          "output_type": "stream",
          "name": "stdout",
          "text": [
            "433.33333333333337\n",
            "392.2322702763681\n"
          ]
        }
      ]
    },
    {
      "cell_type": "code",
      "source": [
        "w = wy\n",
        "x = xy\n",
        "a = ((w*10000)/(32*E*l**4))*(6*(l**2)*(x**2)- (x**4) -  5*(l**4))\n",
        "print(a)"
      ],
      "metadata": {
        "colab": {
          "base_uri": "https://localhost:8080/"
        },
        "outputId": "1da7c7f6-9fb8-4aa8-826e-dd149760dff5",
        "id": "GVJsmtfRe0Iy"
      },
      "execution_count": 35,
      "outputs": [
        {
          "output_type": "stream",
          "name": "stdout",
          "text": [
            "-1.087454212454212\n"
          ]
        }
      ]
    },
    {
      "cell_type": "code",
      "source": [
        "X = np.linspace(0,xy, 500)\n",
        "w = wy\n",
        "yp = []\n",
        "for x in X:\n",
        "\n",
        "  y = - (1145324612266666500000*17179869183999999**(1/2) + 29778439918933329*17179869183999999**(1/2)*x**2 + (29778439918933329*17179869183999999**(1/2)*x**2*math.log(500000))/2 + 2290649224533333*223338299391999987**(1/2)*x*(13*x**2 + 500000)**(1/2) - 29778439918933329*17179869183999999**(1/2)*x**2*math.log(13**(1/2)*x + (13*x**2 + 500000)**(1/2)) - 2290649224533333*223338299391999987**(1/2)*x*math.log(13**(1/2)*x + (13*x**2 + 500000)**(1/2))*(13*x**2 + 500000)**(1/2) + (2290649224533333*223338299391999987**(1/2)*x*math.log(500000)*(13*x**2 + 500000)**(1/2))/2)/(65572410574514421760000000*(13**(1/2)*x + (13*x**2 + 500000)**(1/2))) - ((123218269130813*13**(1/2))/149418315234424163689938835147155145402827064412901212160000000000000 - 12089258196146294829828700097253**(1/2)/1045928206640969145829571846030086017819789450890308485120000000000000)*(17781739455868688290375721052927*299999374048678988686158596054737471444119415079**(1/2) + 5927246485289562763458573684309*math.log(24178516392292589659657400194506**(1/2)/2199023255552000 - (862527883915691*26**(1/2))/2199023255552000)*(3*299999374048678988686158596054737471444119415079**(1/2) + 11212862490903983*17179869183999999**(1/2)) + 83076749736557251151842847373535017271920702747*17179869183999999**(1/2) - 405747964949744044871348145817688865683537920000000000*13**(1/2) - 470417214928444504461667205120000000000*12089258196146294829828700097253**(1/2))\n",
        "  yp.append(y)"
      ],
      "metadata": {
        "id": "Y58Hyyrye0Iz"
      },
      "execution_count": 36,
      "outputs": []
    },
    {
      "cell_type": "code",
      "source": [
        "Ye = []\n",
        "Xe = np.linspace(xy,500,1000)\n",
        "for x in Xe:\n",
        "  y =((w*10000)/(32*E*l**4))*(6*(l**2)*(x**2)- (x**4) -  5*(l**4))\n",
        "  Ye.append(y)"
      ],
      "metadata": {
        "id": "J2yy84yKe0Iz"
      },
      "execution_count": 37,
      "outputs": []
    },
    {
      "cell_type": "code",
      "source": [
        "plt.plot(list(X)+list(Xe), yp+Ye)\n",
        "\n",
        "plt.xlabel(\"Distance along length\")\n",
        "plt.ylabel( \" Displacement \")\n",
        "plt.title(\" Displacement Profile for half of the beam  for 1.3wy\")\n",
        "plt.grid()\n",
        "plt.show()"
      ],
      "metadata": {
        "colab": {
          "base_uri": "https://localhost:8080/",
          "height": 294
        },
        "outputId": "49933694-aee2-41a8-c046-13aa08bfa804",
        "id": "uvTQOOiAe0I0"
      },
      "execution_count": 38,
      "outputs": [
        {
          "output_type": "display_data",
          "data": {
            "text/plain": [
              "<Figure size 432x288 with 1 Axes>"
            ],
            "image/png": "[encoded data removed]"
          },
          "metadata": {
            "needs_background": "light"
          }
        }
      ]
    },
    {
      "cell_type": "code",
      "source": [
        "max = print(\"The max displacement is for 1.3wy \", yp[0] )"
      ],
      "metadata": {
        "id": "wGIZpMijfgwu",
        "outputId": "47049aac-cbe3-491f-9cea-ec913815dad2",
        "colab": {
          "base_uri": "https://localhost:8080/"
        }
      },
      "execution_count": 39,
      "outputs": [
        {
          "output_type": "stream",
          "name": "stdout",
          "text": [
            "The max displacement is for 1.3wy  -6.433501919519969\n"
          ]
        }
      ]
    },
    {
      "cell_type": "markdown",
      "source": [
        "FOR 1.3Wy"
      ],
      "metadata": {
        "id": "moWCnBEae0I1"
      }
    },
    {
      "cell_type": "code",
      "source": [
        ""
      ],
      "metadata": {
        "id": "ggmhoSv3fMmF"
      },
      "execution_count": 19,
      "outputs": []
    }
  ]
}