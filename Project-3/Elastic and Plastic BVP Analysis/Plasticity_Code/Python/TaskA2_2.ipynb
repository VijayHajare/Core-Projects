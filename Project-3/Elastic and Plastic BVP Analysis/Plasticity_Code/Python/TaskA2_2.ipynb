{
  "nbformat": 4,
  "nbformat_minor": 0,
  "metadata": {
    "colab": {
      "name": "TaskA2-2.ipynb",
      "provenance": []
    },
    "kernelspec": {
      "name": "python3",
      "display_name": "Python 3"
    },
    "language_info": {
      "name": "python"
    }
  },
  "cells": [
    {
      "cell_type": "code",
      "execution_count": 200,
      "metadata": {
        "id": "PDV2dfDLfGUY"
      },
      "outputs": [],
      "source": [
        "import numpy as np\n",
        "import matplotlib.pyplot as plt\n",
        "import math \n",
        "from scipy.optimize import fsolve "
      ]
    },
    {
      "cell_type": "code",
      "source": [
        "E = 210000\n",
        "m = 0.3\n",
        "ty = 250\n",
        "sxe = (1-m) + ((m**2)/(m-1))\n",
        "sye = (m) + ((m**2)/(m-1))\n",
        "ly = (E)/((1+m)*(1-2*m))*sxe\n",
        "ey = (250)/ly\n",
        "lz = (E)/((1+m)*(1-2*m))*sye\n",
        "ez = (250)/lz"
      ],
      "metadata": {
        "id": "A_5WTxEghDrn"
      },
      "execution_count": 201,
      "outputs": []
    },
    {
      "cell_type": "code",
      "source": [
        "p1 = []\n",
        "time = list(np.linspace(0,2,10))\n",
        "for i in time:\n",
        "  s = 1.5*ey*(i/3)\n",
        "  p1.append(s)\n",
        "s1 = []\n",
        "ty1 = [2,\n",
        "2.10000000000000,\n",
        "2.20000000000000,\n",
        "2.30000000000000,\n",
        "2.40000000000000,\n",
        "2.50000000000000,\n",
        "2.60000000000000,\n",
        "2.70000000000000,\n",
        "2.80000000000000,\n",
        "2.90000000000000,\n",
        "3]\n",
        "ty2 = [7,\n",
        "7.20000000000000,\n",
        "7.40000000000000,\n",
        "7.60000000000000,\n",
        "7.80000000000000,\n",
        "8,\n",
        "8.20000000000000,\n",
        "8.40000000000000,\n",
        "8.60000000000000,\n",
        "8.80000000000000,\n",
        "9]\n",
        "for i in ty1:\n",
        "  s = 1.5*ey*(i/3)\n",
        "  p1.append(s)\n",
        "e1 = p1+s1"
      ],
      "metadata": {
        "id": "tTmBABS9fLTz"
      },
      "execution_count": 202,
      "outputs": []
    },
    {
      "cell_type": "code",
      "source": [
        "n = 1\n",
        "t1 = list(np.linspace(3, 7, 10))\n",
        "p2 = []\n",
        "for i in t1:\n",
        "  x = (-1)*(1.5 *(ey/3)* (i - (2*n-1)*3)- 1.5*ey)\n",
        "  p2.append(x)\n",
        "s2 = []\n",
        "for i in ty2:\n",
        "  x = (-1)*(1.5 *(ey/3)* (i - (2*n-1)*3)- 1.5*ey)\n",
        "  s2.append(x)\n",
        "e2 = p2+s2"
      ],
      "metadata": {
        "id": "kCP2pWV-hCo3"
      },
      "execution_count": 203,
      "outputs": []
    },
    {
      "cell_type": "code",
      "source": [
        "n = 2\n",
        "t2 = list(np.linspace(9, 13, 10))\n",
        "p3 = []\n",
        "for i in t2:\n",
        "  x = (1)*(1.5 *(ey/3)* (i - (2*n-1)*3)- 1.5*ey)\n",
        "  p3.append(x)\n",
        "ty3 = [13,\n",
        "13.2000000000000,\n",
        "13.4000000000000,\n",
        "13.6000000000000,\n",
        "13.8000000000000,\n",
        "14.0000000000000,\n",
        "14.2000000000000,\n",
        "14.4000000000000,\n",
        "14.6000000000000,\n",
        "14.8000000000000,\n",
        "15]\n",
        "s3 = []\n",
        "for i in ty3:\n",
        "  x = (1)*(1.5 *(ey/3)* (i - (2*n-1)*3)- 1.5*ey)\n",
        "  s3.append(x)\n",
        "e3 = p3+s3"
      ],
      "metadata": {
        "id": "Gf0ncvNyhk4z"
      },
      "execution_count": 204,
      "outputs": []
    },
    {
      "cell_type": "code",
      "source": [
        "n = 3\n",
        "t3 = list(np.linspace(15, 19, 10))\n",
        "p4 = []\n",
        "for i in t3:\n",
        "  x = (-1)*(1.5 *(ey/3)* (i - (2*n-1)*3)- 1.5*ey)\n",
        "  p4.append(x)\n",
        "s4 = []\n",
        "ty4 = [19,\n",
        "19.2000000000000,\n",
        "19.4000000000000,\n",
        "19.6000000000000,\n",
        "19.8000000000000,\n",
        "20.0000000000000,\n",
        "20.2000000000000,\n",
        "20.4000000000000,\n",
        "20.6000000000000,\n",
        "20.8000000000000,\n",
        "21]\n",
        "for i in ty4:\n",
        "  x = (-1)*(1.5 *(ey/3)* (i - (2*n-1)*3)- 1.5*ey)\n",
        "  s4.append(x)\n",
        "e4 = p4+s4"
      ],
      "metadata": {
        "id": "8HCSZpvOhp3x"
      },
      "execution_count": 205,
      "outputs": []
    },
    {
      "cell_type": "code",
      "source": [
        "n = 4\n",
        "t4 = list(np.linspace(21, 25, 10))\n",
        "p5 = []\n",
        "for i in t4:\n",
        "  x = (1)*(1.5 *(ey/3)* (i - (2*n-1)*3)- 1.5*ey)\n",
        "  p5.append(x)\n",
        "ty5 = [25,\n",
        "25.2000000000000,\n",
        "25.4000000000000,\n",
        "25.6000000000000,\n",
        "25.8000000000000,\n",
        "26.0000000000000,\n",
        "26.2000000000000,\n",
        "26.4000000000000,\n",
        "26.6000000000000,\n",
        "26.8000000000000,\n",
        "27]\n",
        "s5 = []\n",
        "for i in ty5:\n",
        "  x = (1)*(1.5 *(ey/3)* (i - (2*n-1)*3)- 1.5*ey)\n",
        "  s5.append(x)\n",
        "e5 = p5+s5"
      ],
      "metadata": {
        "id": "amOLRAyJ-qU3"
      },
      "execution_count": 206,
      "outputs": []
    },
    {
      "cell_type": "code",
      "source": [
        "n = 5\n",
        "t6 = list(np.linspace(27, 31, 10))\n",
        "p6 = []\n",
        "for i in t6:\n",
        "  x = (-1)*(1.5 *(ey/3)* (i - (2*n-1)*3)- 1.5*ey)\n",
        "  p6.append(x)\n",
        "\n",
        "ty6 = [31,\n",
        "31.2000000000000,\n",
        "31.4000000000000,\n",
        "31.6000000000000,\n",
        "31.8000000000000,\n",
        "32.0000000000000,\n",
        "32.2000000000000,\n",
        "32.4000000000000,\n",
        "32.6000000000000,\n",
        "32.8000000000000,\n",
        "33]\n",
        "s6 = []\n",
        "for i in ty6:\n",
        "  x = (-1)*(1.5 *(ey/3)* (i - (2*n-1)*3)- 1.5*ey)\n",
        "  s6.append(x)\n",
        "e6 = p6+s6\n"
      ],
      "metadata": {
        "id": "ikCzI6oa-qVC"
      },
      "execution_count": 207,
      "outputs": []
    },
    {
      "cell_type": "code",
      "source": [
        "plt.plot(t11+t12, e6)"
      ],
      "metadata": {
        "colab": {
          "base_uri": "https://localhost:8080/",
          "height": 281
        },
        "id": "PgCATJwcUzRf",
        "outputId": "38d6558d-20aa-4742-b688-9738cacf7457"
      },
      "execution_count": 208,
      "outputs": [
        {
          "output_type": "execute_result",
          "data": {
            "text/plain": [
              "[<matplotlib.lines.Line2D at 0x7fcce1774250>]"
            ]
          },
          "metadata": {},
          "execution_count": 208
        },
        {
          "output_type": "display_data",
          "data": {
            "text/plain": [
              "<Figure size 432x288 with 1 Axes>"
            ],
            "image/png": "[encoded data removed]"
          },
          "metadata": {
            "needs_background": "light"
          }
        }
      ]
    },
    {
      "cell_type": "code",
      "source": [
        "e = e1+e2+e3+e4+e5+e6\n"
      ],
      "metadata": {
        "id": "XauyqYrwhyAg"
      },
      "execution_count": 209,
      "outputs": []
    },
    {
      "cell_type": "code",
      "source": [
        "xpoints = t\n",
        "ypoints = e\n",
        "\n",
        "plt.plot(xpoints, ypoints)\n",
        "plt.xlabel(\"Time\")\n",
        "plt.ylabel(\"Strain\")\n",
        "plt.title(\"Strain vs Time\")\n",
        "plt.grid()"
      ],
      "metadata": {
        "colab": {
          "base_uri": "https://localhost:8080/",
          "height": 294
        },
        "id": "xQKhQqKSiDJj",
        "outputId": "1e5c876e-fbc7-4fd0-c86d-40370c542431"
      },
      "execution_count": 261,
      "outputs": [
        {
          "output_type": "display_data",
          "data": {
            "text/plain": [
              "<Figure size 432x288 with 1 Axes>"
            ],
            "image/png": "[encoded data removed]"
          },
          "metadata": {
            "needs_background": "light"
          }
        }
      ]
    },
    {
      "cell_type": "code",
      "source": [
        "y1 = []\n",
        "t1 = np.linspace(0, 2, 10)\n",
        "T =3\n",
        "for i in t1 :\n",
        "  def f(a): \n",
        "    p = (E/((1-2*m)*(1+m)))*(sye)*(1.5*ez*i/T) - a\n",
        "    return p\n",
        "  sol = fsolve(f,2)\n",
        "  y1.append(sol)\n",
        "print(y1)\n",
        "print(y1[0])\n",
        "print(y1[-1])"
      ],
      "metadata": {
        "colab": {
          "base_uri": "https://localhost:8080/"
        },
        "id": "9mHBhW1yKh9l",
        "outputId": "b552f865-d9c9-455f-96fb-239271bc8632"
      },
      "execution_count": 211,
      "outputs": [
        {
          "output_type": "stream",
          "name": "stdout",
          "text": [
            "[array([0.]), array([27.77777778]), array([55.55555556]), array([83.33333333]), array([111.11111111]), array([138.88888889]), array([166.66666667]), array([194.44444444]), array([222.22222222]), array([250.])]\n",
            "[0.]\n",
            "[250.]\n"
          ]
        }
      ]
    },
    {
      "cell_type": "code",
      "source": [
        "x1 = []\n",
        "t1 = np.linspace(0, 2, 10)\n",
        "T =3\n",
        "for i in t1 :\n",
        "  def f(a): \n",
        "    p = (E/((1-2*m)*(1+m)))*(sxe)*(1.5*ey*i/T) - a\n",
        "    return p\n",
        "  sol = fsolve(f,2)\n",
        "  x1.append(sol)\n",
        "print(x1)\n",
        "print(x1[0])\n",
        "print(x1[-1])"
      ],
      "metadata": {
        "id": "7anadgOc12wL",
        "colab": {
          "base_uri": "https://localhost:8080/"
        },
        "outputId": "6f7e7a91-7c73-4131-a865-ab0d19ea10e5"
      },
      "execution_count": 212,
      "outputs": [
        {
          "output_type": "stream",
          "name": "stdout",
          "text": [
            "[array([0.]), array([27.77777778]), array([55.55555556]), array([83.33333333]), array([111.11111111]), array([138.88888889]), array([166.66666667]), array([194.44444444]), array([222.22222222]), array([250.])]\n",
            "[0.]\n",
            "[250.]\n"
          ]
        }
      ]
    },
    {
      "cell_type": "markdown",
      "source": [
        "Recurssion"
      ],
      "metadata": {
        "id": "wIPrGcJrAGcb"
      }
    },
    {
      "cell_type": "code",
      "source": [
        "x2 = [250,\n",
        "251.789945391873,\n",
        "253.573518177958,\n",
        "255.350870501706,\n",
        "257.122153396173,\n",
        "258.887516674005,\n",
        "260.647108825705,\n",
        "262.401076925912,\n",
        "264.149566547367,\n",
        "265.892721682281,\n",
        "267.630684670786]\n",
        "\n",
        "y2 = [250,\n",
        "250.043935130958,\n",
        "250.089449775136,\n",
        "250.136652175817,\n",
        "250.185645802788,\n",
        "250.236529463320,\n",
        "250.289397414956,\n",
        "250.344339479702,\n",
        "250.401441159222,\n",
        "250.460783750688,\n",
        "250.522444462930]\n",
        "\n",
        "x = x1+x2\n",
        "y = y1+y2"
      ],
      "metadata": {
        "id": "6zzHeLli_hVq"
      },
      "execution_count": 213,
      "outputs": []
    },
    {
      "cell_type": "code",
      "source": [
        "i = 3\n",
        "T =3\n",
        "c = x[-1] - (E/((1-2*m)*(1+m)))*(sxe)*(1.5*(-ey)*i/T)\n",
        "c"
      ],
      "metadata": {
        "colab": {
          "base_uri": "https://localhost:8080/"
        },
        "id": "qi3ZLNct_2xk",
        "outputId": "94d7da99-c312-4dac-cf2f-5a10233ab219"
      },
      "execution_count": 214,
      "outputs": [
        {
          "output_type": "execute_result",
          "data": {
            "text/plain": [
              "642.6306846707861"
            ]
          },
          "metadata": {},
          "execution_count": 214
        }
      ]
    },
    {
      "cell_type": "code",
      "source": [
        "x3 = []\n",
        "t1 = np.linspace(3, 7, 10)\n",
        "T =3\n",
        "for i in t1 :\n",
        "  def f(a): \n",
        "    p = (E/((1-2*m)*(1+m)))*(sxe)*(1.5*(-ey)*i/T) - a + c\n",
        "    return p\n",
        "  sol = fsolve(f,2)\n",
        "  x3.append(sol)\n",
        "print(x3[0])\n",
        "print(x3[-1])\n",
        "print(x3)\n"
      ],
      "metadata": {
        "colab": {
          "base_uri": "https://localhost:8080/"
        },
        "id": "yJJAJnOL_6tp",
        "outputId": "d24ade1c-de21-403e-b920-aa346e4ec8f3"
      },
      "execution_count": 215,
      "outputs": [
        {
          "output_type": "stream",
          "name": "stdout",
          "text": [
            "[267.63068467]\n",
            "[-232.36931533]\n",
            "[array([267.63068467]), array([212.07512912]), array([156.51957356]), array([100.964018]), array([45.40846245]), array([-10.14709311]), array([-65.70264866]), array([-121.25820422]), array([-176.81375977]), array([-232.36931533])]\n"
          ]
        }
      ]
    },
    {
      "cell_type": "code",
      "source": [
        "i = 3\n",
        "T =3\n",
        "c = y[-1] -  (E/((1-2*m)*(1+m)))*(sye)*(1.5*(-ez)*i/T)\n",
        "c"
      ],
      "metadata": {
        "colab": {
          "base_uri": "https://localhost:8080/"
        },
        "id": "WG5k4PlS_-Kv",
        "outputId": "d4df5941-8174-4ab2-f21c-f3df48181eb4"
      },
      "execution_count": 216,
      "outputs": [
        {
          "output_type": "execute_result",
          "data": {
            "text/plain": [
              "625.52244446293"
            ]
          },
          "metadata": {},
          "execution_count": 216
        }
      ]
    },
    {
      "cell_type": "code",
      "source": [
        "y3 = []\n",
        "t1 = np.linspace(3, 7, 10)\n",
        "T =3\n",
        "for i in t1 :\n",
        "  def f(a): \n",
        "    p = (E/((1-2*m)*(1+m)))*(sye)*(1.5*(-ez)*i/T) - a + c\n",
        "    return p\n",
        "  sol = fsolve(f,2)\n",
        "  y3.append(sol)\n",
        "print(y3[0])\n",
        "print(y3[-1])\n",
        "print(y3)\n"
      ],
      "metadata": {
        "colab": {
          "base_uri": "https://localhost:8080/"
        },
        "id": "mw7DQzF9ATGZ",
        "outputId": "6215cc7e-261a-4a42-c82a-6522ddc0a1e3"
      },
      "execution_count": 217,
      "outputs": [
        {
          "output_type": "stream",
          "name": "stdout",
          "text": [
            "[250.52244446]\n",
            "[-249.47755554]\n",
            "[array([250.52244446]), array([194.96688891]), array([139.41133335]), array([83.8557778]), array([28.30022224]), array([-27.25533331]), array([-82.81088887]), array([-138.36644443]), array([-193.92199998]), array([-249.47755554])]\n"
          ]
        }
      ]
    },
    {
      "cell_type": "code",
      "source": [
        "x4 = [-232.369315330000,\n",
        "-236.078527752733,\n",
        "-239.756897754899,\n",
        "-243.405674367467,\n",
        "-247.026107017959,\n",
        "-250.619439876815,\n",
        "-254.186906839539,\n",
        "-257.729727118303,\n",
        "-261.249101411519,\n",
        "-264.746208616153,\n",
        "-268.222203045127]\n",
        "\n",
        "y4 = [-249.477555540000,\n",
        "-249.547910620105,\n",
        "-249.620024056666,\n",
        "-249.695101521346,\n",
        "-249.774260490935,\n",
        "-249.858532922360,\n",
        "-249.948868267064,\n",
        "-250.046136749008,\n",
        "-250.151132837805,\n",
        "-250.264578855803,\n",
        "-250.387128665246]"
      ],
      "metadata": {
        "id": "_4SweAeDAXu1"
      },
      "execution_count": 218,
      "outputs": []
    },
    {
      "cell_type": "code",
      "source": [
        "#plot 1:\n",
        "\n",
        "plt.subplot(1, 2, 1)\n",
        "plt.plot(e1, x1+x2, color = 'magenta')\n",
        "\n",
        "plt.plot(e2, x3+x4, color = 'red')\n",
        "\n",
        "#plt.plot(e3, x5+x6, color = 'blue')\n",
        "\n",
        "#plt.plot(e3, x7+x8, color = 'green')\n",
        "\n",
        "#plt.plot(e4, x9+x10, color = 'black')\n",
        "\n",
        "#plt.plot(e5, x11+x12, color = 'orange')\n",
        "plt.title(\"Shear Stress vs Shear Strain \")\n",
        "plt.xlabel(\"strain.  10^(-3)\")\n",
        "plt.ylabel(\"Shear Stress\")\n",
        "\n",
        "plt.grid()\n",
        "\n",
        "#plot 2:\n",
        "#plt.subplot(1, 2, 2)\n",
        "#plt.plot(e1, y1+y2, color = 'magenta')\n",
        "\n",
        "#plt.plot(e2, y3+y4, color = 'red')\n",
        "\n",
        "#plt.plot(e3, x5+x6, color = 'blue')\n",
        "\n",
        "#plt.plot(e3, x7+x8, color = 'green')\n",
        "\n",
        "#plt.plot(e4, x9+x10, color = 'black')\n",
        "\n",
        "#plt.plot(e5, x11+x12, color = 'orange')\n",
        "#plt.title(\"Shear Stress vs Shear Strain \")\n",
        "#plt.xlabel(\"strain.  10^(-3)\")\n",
        "#plt.ylabel(\"Shear Stress\")\n",
        "\n",
        "#plt.grid()\n",
        "\n",
        "plt.show()\n"
      ],
      "metadata": {
        "colab": {
          "base_uri": "https://localhost:8080/",
          "height": 347
        },
        "id": "q-mJpVX9ArmR",
        "outputId": "fb8fafd6-bbd2-4d45-8957-b5d1d2d77da3"
      },
      "execution_count": 219,
      "outputs": [
        {
          "output_type": "stream",
          "name": "stderr",
          "text": [
            "/usr/local/lib/python3.7/dist-packages/numpy/core/shape_base.py:65: VisibleDeprecationWarning: Creating an ndarray from ragged nested sequences (which is a list-or-tuple of lists-or-tuples-or ndarrays with different lengths or shapes) is deprecated. If you meant to do this, you must specify 'dtype=object' when creating the ndarray.\n",
            "  ary = asanyarray(ary)\n"
          ]
        },
        {
          "output_type": "display_data",
          "data": {
            "text/plain": [
              "<Figure size 432x288 with 1 Axes>"
            ],
            "image/png": "[encoded data removed]"
          },
          "metadata": {
            "needs_background": "light"
          }
        }
      ]
    },
    {
      "cell_type": "code",
      "source": [
        "x = x1+x2+x3+x4\n",
        "y =  y1+ y2+ y3+ y4"
      ],
      "metadata": {
        "id": "2xkH-WjTDtwB"
      },
      "execution_count": 220,
      "outputs": []
    },
    {
      "cell_type": "markdown",
      "source": [
        "Next"
      ],
      "metadata": {
        "id": "DETujjQ0DmN9"
      }
    },
    {
      "cell_type": "code",
      "source": [
        "x[-1]"
      ],
      "metadata": {
        "colab": {
          "base_uri": "https://localhost:8080/"
        },
        "id": "je0xw4MxD275",
        "outputId": "7f54138b-4319-440c-cb7e-433230a93411"
      },
      "execution_count": 221,
      "outputs": [
        {
          "output_type": "execute_result",
          "data": {
            "text/plain": [
              "-268.222203045127"
            ]
          },
          "metadata": {},
          "execution_count": 221
        }
      ]
    },
    {
      "cell_type": "code",
      "source": [
        "i = 9\n",
        "T =3\n",
        "c = x[-1] - (E/((1-2*m)*(1+m)))*(sxe)*(1.5*(ey)*i/T)\n",
        "c"
      ],
      "metadata": {
        "colab": {
          "base_uri": "https://localhost:8080/"
        },
        "outputId": "29982f15-f359-424e-a91e-ca9c697dac2a",
        "id": "jM73-5w5DkS0"
      },
      "execution_count": 222,
      "outputs": [
        {
          "output_type": "execute_result",
          "data": {
            "text/plain": [
              "-1393.2222030451271"
            ]
          },
          "metadata": {},
          "execution_count": 222
        }
      ]
    },
    {
      "cell_type": "code",
      "source": [
        "x5 = []\n",
        "t1 = np.linspace(9, 13, 10)\n",
        "T =3\n",
        "for i in t1 :\n",
        "  def f(a): \n",
        "    p = (E/((1-2*m)*(1+m)))*(sxe)*(1.5*(ey)*i/T) - a + c\n",
        "    return p\n",
        "  sol = fsolve(f,2)\n",
        "  x5.append(sol)\n",
        "print(x5[0])\n",
        "print(x5[-1])\n",
        "print(x5)\n"
      ],
      "metadata": {
        "colab": {
          "base_uri": "https://localhost:8080/"
        },
        "outputId": "bf573f31-61e5-4a38-8dc1-41b5bc5caa00",
        "id": "-VTS9gK3DkS0"
      },
      "execution_count": 223,
      "outputs": [
        {
          "output_type": "stream",
          "name": "stdout",
          "text": [
            "[-268.22220305]\n",
            "[231.77779695]\n",
            "[array([-268.22220305]), array([-212.66664749]), array([-157.11109193]), array([-101.55553638]), array([-45.99998082]), array([9.55557473]), array([65.11113029]), array([120.66668584]), array([176.2222414]), array([231.77779695])]\n"
          ]
        }
      ]
    },
    {
      "cell_type": "code",
      "source": [
        "i = 9\n",
        "T =3\n",
        "c = y[-1] -  (E/((1-2*m)*(1+m)))*(sye)*(1.5*(ez)*i/T)\n",
        "c"
      ],
      "metadata": {
        "colab": {
          "base_uri": "https://localhost:8080/"
        },
        "outputId": "f1130910-11f4-46d7-bd9b-2105dafc0883",
        "id": "fOnrJ2txDkS1"
      },
      "execution_count": 224,
      "outputs": [
        {
          "output_type": "execute_result",
          "data": {
            "text/plain": [
              "-1375.387128665246"
            ]
          },
          "metadata": {},
          "execution_count": 224
        }
      ]
    },
    {
      "cell_type": "code",
      "source": [
        "y5 = []\n",
        "t1 = np.linspace(9, 13, 10)\n",
        "T =3\n",
        "for i in t1 :\n",
        "  def f(a): \n",
        "    p = (E/((1-2*m)*(1+m)))*(sye)*(1.5*(ez)*i/T) - a + c\n",
        "    return p\n",
        "  sol = fsolve(f,2)\n",
        "  y5.append(sol)\n",
        "print(y5[0])\n",
        "print(y5[-1])\n",
        "print(y5)\n"
      ],
      "metadata": {
        "colab": {
          "base_uri": "https://localhost:8080/"
        },
        "outputId": "82e4268f-39cb-4a5a-ae5f-433e921ef6ab",
        "id": "pOKXtNW4DkS2"
      },
      "execution_count": 225,
      "outputs": [
        {
          "output_type": "stream",
          "name": "stdout",
          "text": [
            "[-250.38712867]\n",
            "[249.61287133]\n",
            "[array([-250.38712867]), array([-194.83157311]), array([-139.27601755]), array([-83.720462]), array([-28.16490644]), array([27.39064911]), array([82.94620467]), array([138.50176022]), array([194.05731578]), array([249.61287133])]\n"
          ]
        }
      ]
    },
    {
      "cell_type": "code",
      "source": [
        "x6 = [231.777796950000,\n",
        "235.493630037386,\n",
        "239.178408037361,\n",
        "242.833377405196,\n",
        "246.459786165963,\n",
        "250.058878149226,\n",
        "253.631887861879,\n",
        "257.180035974146,\n",
        "260.704525388225,\n",
        "264.206537855133,\n",
        "267.687231102588]\n"
      ],
      "metadata": {
        "id": "HF2PH1ZKDkS3"
      },
      "execution_count": 226,
      "outputs": []
    },
    {
      "cell_type": "code",
      "source": [
        "plt.plot(e1, x1+x2, color = 'magenta')\n",
        "\n",
        "plt.plot(e2, x3+x4, color = 'red')\n",
        "\n",
        "plt.plot(e3, x5+x6, color = 'blue')\n",
        "\n",
        "#plt.plot(e3, x7+x8, color = 'green')\n",
        "\n",
        "#plt.plot(e4, x9+x10, color = 'black')\n",
        "\n",
        "#plt.plot(e5, x11+x12, color = 'orange')\n",
        "plt.title(\"Shear Stress vs Shear Strain \")\n",
        "plt.xlabel(\"strain.  10^(-3)\")\n",
        "plt.ylabel(\"Shear Stress\")\n",
        "\n",
        "\n",
        "plt.grid()"
      ],
      "metadata": {
        "colab": {
          "base_uri": "https://localhost:8080/",
          "height": 347
        },
        "outputId": "c9cb17ba-419a-4203-9151-fd69fae73375",
        "id": "mZMVt2_QDkS3"
      },
      "execution_count": 227,
      "outputs": [
        {
          "output_type": "stream",
          "name": "stderr",
          "text": [
            "/usr/local/lib/python3.7/dist-packages/numpy/core/shape_base.py:65: VisibleDeprecationWarning: Creating an ndarray from ragged nested sequences (which is a list-or-tuple of lists-or-tuples-or ndarrays with different lengths or shapes) is deprecated. If you meant to do this, you must specify 'dtype=object' when creating the ndarray.\n",
            "  ary = asanyarray(ary)\n"
          ]
        },
        {
          "output_type": "display_data",
          "data": {
            "text/plain": [
              "<Figure size 432x288 with 1 Axes>"
            ],
            "image/png": "[encoded data removed]"
          },
          "metadata": {
            "needs_background": "light"
          }
        }
      ]
    },
    {
      "cell_type": "code",
      "source": [
        "x = x1+x2+x3+x4+x5+x6"
      ],
      "metadata": {
        "id": "4ePo5S7NGXs6"
      },
      "execution_count": 228,
      "outputs": []
    },
    {
      "cell_type": "markdown",
      "source": [
        "NEXT 7 8"
      ],
      "metadata": {
        "id": "tMEjP0AwGS6J"
      }
    },
    {
      "cell_type": "code",
      "source": [
        ""
      ],
      "metadata": {
        "id": "LE-esLcHGGOL"
      },
      "execution_count": 228,
      "outputs": []
    },
    {
      "cell_type": "code",
      "source": [
        "x[-1]"
      ],
      "metadata": {
        "colab": {
          "base_uri": "https://localhost:8080/"
        },
        "outputId": "e791fcae-c8e2-4aa9-90bd-ee1f841c25d6",
        "id": "rt8nEpAkGft6"
      },
      "execution_count": 229,
      "outputs": [
        {
          "output_type": "execute_result",
          "data": {
            "text/plain": [
              "267.687231102588"
            ]
          },
          "metadata": {},
          "execution_count": 229
        }
      ]
    },
    {
      "cell_type": "code",
      "source": [
        "i = 15\n",
        "T =3\n",
        "c = x[-1] - (E/((1-2*m)*(1+m)))*(sxe)*(1.5*(-ey)*i/T)\n",
        "c"
      ],
      "metadata": {
        "colab": {
          "base_uri": "https://localhost:8080/"
        },
        "outputId": "fd98ff21-c749-4fd2-ff06-45ae75d2aa80",
        "id": "GBQHygodGft9"
      },
      "execution_count": 230,
      "outputs": [
        {
          "output_type": "execute_result",
          "data": {
            "text/plain": [
              "2142.687231102588"
            ]
          },
          "metadata": {},
          "execution_count": 230
        }
      ]
    },
    {
      "cell_type": "code",
      "source": [
        "x7 = []\n",
        "t1 = np.linspace(15, 19, 10)\n",
        "T =3\n",
        "for i in t1 :\n",
        "  def f(a): \n",
        "    p = (E/((1-2*m)*(1+m)))*(sxe)*(1.5*(-ey)*i/T) - a + c\n",
        "    return p\n",
        "  sol = fsolve(f,2)\n",
        "  x7.append(sol)\n",
        "print(x7[0])\n",
        "print(x7[-1])\n",
        "print(x7)\n"
      ],
      "metadata": {
        "colab": {
          "base_uri": "https://localhost:8080/"
        },
        "outputId": "de70aecf-53a7-4ae0-bf44-dfb46f1d7ccd",
        "id": "89HAruIwGft-"
      },
      "execution_count": 231,
      "outputs": [
        {
          "output_type": "stream",
          "name": "stdout",
          "text": [
            "[267.6872311]\n",
            "[-232.3127689]\n",
            "[array([267.6872311]), array([212.13167555]), array([156.57611999]), array([101.02056444]), array([45.46500888]), array([-10.09054668]), array([-65.64610223]), array([-121.20165779]), array([-176.75721334]), array([-232.3127689])]\n"
          ]
        }
      ]
    },
    {
      "cell_type": "code",
      "source": [
        "y = 250.516000452470\n",
        "i = 15\n",
        "T =3\n",
        "c = y -  (E/((1-2*m)*(1+m)))*(sye)*(1.5*(-ez)*i/T)\n",
        "c"
      ],
      "metadata": {
        "colab": {
          "base_uri": "https://localhost:8080/"
        },
        "outputId": "c2e0a5d7-c397-406f-d536-3f7fe2a5f72a",
        "id": "tpjzoGoTGft_"
      },
      "execution_count": 232,
      "outputs": [
        {
          "output_type": "execute_result",
          "data": {
            "text/plain": [
              "2125.51600045247"
            ]
          },
          "metadata": {},
          "execution_count": 232
        }
      ]
    },
    {
      "cell_type": "code",
      "source": [
        "y3 = []\n",
        "t1 = np.linspace(15, 19, 10)\n",
        "T =3\n",
        "for i in t1 :\n",
        "  def f(a): \n",
        "    p = (E/((1-2*m)*(1+m)))*(sye)*(1.5*(-ez)*i/T) - a + c\n",
        "    return p\n",
        "  sol = fsolve(f,2)\n",
        "  y3.append(sol)\n",
        "print(y3[0])\n",
        "print(y3[-1])\n",
        "print(y3)\n"
      ],
      "metadata": {
        "colab": {
          "base_uri": "https://localhost:8080/"
        },
        "outputId": "0338e8d7-1607-40ae-f417-f4f8c2c7993e",
        "id": "zS7h9iqcGft_"
      },
      "execution_count": 233,
      "outputs": [
        {
          "output_type": "stream",
          "name": "stdout",
          "text": [
            "[250.51600045]\n",
            "[-249.48399955]\n",
            "[array([250.51600045]), array([194.9604449]), array([139.40488934]), array([83.84933379]), array([28.29377823]), array([-27.26177733]), array([-82.81733288]), array([-138.37288844]), array([-193.92844399]), array([-249.48399955])]\n"
          ]
        }
      ]
    },
    {
      "cell_type": "code",
      "source": [
        "x8 = [-232.312768900000,\n",
        "-236.022541702750,\n",
        "-239.701452374947,\n",
        "-243.350749796409,\n",
        "-246.971683345376,\n",
        "-250.565497234601,\n",
        "-254.133425483490,\n",
        "-257.676687500123,\n",
        "-261.196484241708,\n",
        "-264.693994918328,\n",
        "-268.170374202345]\n"
      ],
      "metadata": {
        "id": "IAXtOk3IGfuA"
      },
      "execution_count": 234,
      "outputs": []
    },
    {
      "cell_type": "code",
      "source": [
        "plt.plot(e1, x1+x2, color = 'magenta')\n",
        "\n",
        "plt.plot(e2, x3+x4, color = 'red')\n",
        "\n",
        "plt.plot(e3, x5+x6, color = 'blue')\n",
        "\n",
        "plt.plot(e4, x7+x8, color = 'green')\n",
        "\n",
        "#plt.plot(e4, x9+x10, color = 'black')\n",
        "\n",
        "#plt.plot(e5, x11+x12, color = 'orange')\n",
        "plt.title(\"Shear Stress vs Shear Strain \")\n",
        "\n",
        "plt.xlabel(\"strain.  10^(-3)\")\n",
        "plt.ylabel(\"Shear Stress\")\n",
        "\n",
        "\n",
        "plt.grid()"
      ],
      "metadata": {
        "colab": {
          "base_uri": "https://localhost:8080/",
          "height": 347
        },
        "outputId": "30d3772e-1f2e-4a2c-ceee-288c55df5d9e",
        "id": "5w86h_XcGfuA"
      },
      "execution_count": 235,
      "outputs": [
        {
          "output_type": "stream",
          "name": "stderr",
          "text": [
            "/usr/local/lib/python3.7/dist-packages/numpy/core/shape_base.py:65: VisibleDeprecationWarning: Creating an ndarray from ragged nested sequences (which is a list-or-tuple of lists-or-tuples-or ndarrays with different lengths or shapes) is deprecated. If you meant to do this, you must specify 'dtype=object' when creating the ndarray.\n",
            "  ary = asanyarray(ary)\n"
          ]
        },
        {
          "output_type": "display_data",
          "data": {
            "text/plain": [
              "<Figure size 432x288 with 1 Axes>"
            ],
            "image/png": "[encoded data removed]"
          },
          "metadata": {
            "needs_background": "light"
          }
        }
      ]
    },
    {
      "cell_type": "code",
      "source": [
        "x = x1+x2+x3+x4+x5+x6+x7+x8\n",
        "t1 = list(np.linspace(0,2,10))\n",
        "t2 = list(np.linspace(2,3,11))\n",
        "t3 = list(np.linspace(3,7,10))\n",
        "t4 = list(np.linspace(7,9,11))\n",
        "t5 = list(np.linspace(9,13,10))\n",
        "t6 = list(np.linspace(13,15,11))\n",
        "t7 = list(np.linspace(15,19,10))\n",
        "t8 = list(np.linspace(19,21,11))\n",
        "t = t1+t2+t3+t4+t5+t6+t7+t8"
      ],
      "metadata": {
        "id": "FD_BHptMGfuB"
      },
      "execution_count": 236,
      "outputs": []
    },
    {
      "cell_type": "code",
      "source": [
        "plt.plot(t, x, color = 'magenta')\n",
        "\n",
        "plt.title(\"Shear Stress vs Shear Strain \")\n",
        "\n",
        "plt.xlabel(\"strain.  10^(-3)\")\n",
        "plt.ylabel(\"Shear Stress\")\n",
        "\n",
        "\n",
        "plt.grid()"
      ],
      "metadata": {
        "colab": {
          "base_uri": "https://localhost:8080/",
          "height": 347
        },
        "id": "BgI6x7xARDTX",
        "outputId": "c492c026-9d60-4db8-bca0-c5a509324d74"
      },
      "execution_count": 237,
      "outputs": [
        {
          "output_type": "stream",
          "name": "stderr",
          "text": [
            "/usr/local/lib/python3.7/dist-packages/numpy/core/shape_base.py:65: VisibleDeprecationWarning: Creating an ndarray from ragged nested sequences (which is a list-or-tuple of lists-or-tuples-or ndarrays with different lengths or shapes) is deprecated. If you meant to do this, you must specify 'dtype=object' when creating the ndarray.\n",
            "  ary = asanyarray(ary)\n"
          ]
        },
        {
          "output_type": "display_data",
          "data": {
            "text/plain": [
              "<Figure size 432x288 with 1 Axes>"
            ],
            "image/png": "[encoded data removed]"
          },
          "metadata": {
            "needs_background": "light"
          }
        }
      ]
    },
    {
      "cell_type": "markdown",
      "source": [
        "9 10"
      ],
      "metadata": {
        "id": "YSFiJV6DR79z"
      }
    },
    {
      "cell_type": "code",
      "source": [
        "x[-1]"
      ],
      "metadata": {
        "colab": {
          "base_uri": "https://localhost:8080/"
        },
        "outputId": "d0088217-438b-40c4-9723-d2ade0d69f28",
        "id": "InZ483VmRlPi"
      },
      "execution_count": 238,
      "outputs": [
        {
          "output_type": "execute_result",
          "data": {
            "text/plain": [
              "-268.170374202345"
            ]
          },
          "metadata": {},
          "execution_count": 238
        }
      ]
    },
    {
      "cell_type": "code",
      "source": [
        "i = 21\n",
        "T =3\n",
        "c = x[-1] - (E/((1-2*m)*(1+m)))*(sxe)*(1.5*(ey)*i/T)\n",
        "c"
      ],
      "metadata": {
        "colab": {
          "base_uri": "https://localhost:8080/"
        },
        "outputId": "154cd736-8f3c-4448-8e58-0c9cdada7378",
        "id": "rLPJa4BoRlPl"
      },
      "execution_count": 239,
      "outputs": [
        {
          "output_type": "execute_result",
          "data": {
            "text/plain": [
              "-2893.170374202345"
            ]
          },
          "metadata": {},
          "execution_count": 239
        }
      ]
    },
    {
      "cell_type": "code",
      "source": [
        "x9 = []\n",
        "t1 = np.linspace(21, 25, 10)\n",
        "T =3\n",
        "for i in t1 :\n",
        "  def f(a): \n",
        "    p = (E/((1-2*m)*(1+m)))*(sxe)*(1.5*(ey)*i/T) - a + c\n",
        "    return p\n",
        "  sol = fsolve(f,2)\n",
        "  x9.append(sol)\n",
        "print( x9[0])\n",
        "print( x9[-1])\n",
        "print( x9)\n"
      ],
      "metadata": {
        "colab": {
          "base_uri": "https://localhost:8080/"
        },
        "outputId": "3553b8e9-334e-4590-8de6-5191cc00d0da",
        "id": "MSyfojn9RlPm"
      },
      "execution_count": 240,
      "outputs": [
        {
          "output_type": "stream",
          "name": "stdout",
          "text": [
            "[-268.1703742]\n",
            "[231.8296258]\n",
            "[array([-268.1703742]), array([-212.61481865]), array([-157.05926309]), array([-101.50370754]), array([-45.94815198]), array([9.60740358]), array([65.16295913]), array([120.71851469]), array([176.27407024]), array([231.8296258])]\n"
          ]
        }
      ]
    },
    {
      "cell_type": "code",
      "source": [
        "i = 21\n",
        "T =3\n",
        "c = -250.392829557730 -  (E/((1-2*m)*(1+m)))*(sye)*(1.5*(ez)*i/T)\n",
        "c"
      ],
      "metadata": {
        "colab": {
          "base_uri": "https://localhost:8080/"
        },
        "outputId": "70734c68-a595-4efe-a717-b09aa5b00e21",
        "id": "yOUhSsJARlPn"
      },
      "execution_count": 241,
      "outputs": [
        {
          "output_type": "execute_result",
          "data": {
            "text/plain": [
              "-2875.39282955773"
            ]
          },
          "metadata": {},
          "execution_count": 241
        }
      ]
    },
    {
      "cell_type": "code",
      "source": [
        "y5 = []\n",
        "t1 = np.linspace(21, 25, 10)\n",
        "T =3\n",
        "for i in t1 :\n",
        "  def f(a): \n",
        "    p = (E/((1-2*m)*(1+m)))*(sye)*(1.5*(ez)*i/T) - a + c\n",
        "    return p\n",
        "  sol = fsolve(f,2)\n",
        "  y5.append(sol)\n",
        "print(y5[0])\n",
        "print(y5[-1])\n",
        "print(y5)\n"
      ],
      "metadata": {
        "colab": {
          "base_uri": "https://localhost:8080/"
        },
        "outputId": "e1a4f0c9-45c4-4978-e4e4-2a637021dba9",
        "id": "7P92fvPBRlPn"
      },
      "execution_count": 242,
      "outputs": [
        {
          "output_type": "stream",
          "name": "stdout",
          "text": [
            "[-250.39282956]\n",
            "[249.60717044]\n",
            "[array([-250.39282956]), array([-194.837274]), array([-139.28171845]), array([-83.72616289]), array([-28.17060734]), array([27.38494822]), array([82.94050378]), array([138.49605933]), array([194.05161489]), array([249.60717044])]\n"
          ]
        }
      ]
    },
    {
      "cell_type": "code",
      "source": [
        "x10 = [231.829625800000,\n",
        "235.544945555004,\n",
        "239.229228174958,\n",
        "242.883720268266,\n",
        "246.509669918742,\n",
        "250.108320929708,\n",
        "253.680907705993,\n",
        "257.228650748731,\n",
        "260.752752732401,\n",
        "264.254395129549,\n",
        "267.734735346058]\n"
      ],
      "metadata": {
        "id": "lkh5M6dZRlPo"
      },
      "execution_count": 243,
      "outputs": []
    },
    {
      "cell_type": "code",
      "source": [
        "plt.plot(e1, x1+x2, color = 'magenta')\n",
        "\n",
        "plt.plot(e2, x3+x4, color = 'red')\n",
        "\n",
        "plt.plot(e3, x5+x6, color = 'blue')\n",
        "\n",
        "plt.plot(e4, x7+x8, color = 'green')\n",
        "\n",
        "plt.plot(e5, x9+x10, color = 'black')\n",
        "\n",
        "#plt.plot(e5, x11+x12, color = 'orange')\n",
        "plt.title(\"Shear Stress vs Shear Strain \")\n",
        "\n",
        "plt.xlabel(\"strain.  10^(-3)\")\n",
        "plt.ylabel(\"Shear Stress\")\n",
        "\n",
        "\n",
        "plt.grid()"
      ],
      "metadata": {
        "colab": {
          "base_uri": "https://localhost:8080/",
          "height": 347
        },
        "id": "pl6gh04-S5b3",
        "outputId": "8a5e2963-13cf-433f-c708-1ddee0c0b1ef"
      },
      "execution_count": 244,
      "outputs": [
        {
          "output_type": "stream",
          "name": "stderr",
          "text": [
            "/usr/local/lib/python3.7/dist-packages/numpy/core/shape_base.py:65: VisibleDeprecationWarning: Creating an ndarray from ragged nested sequences (which is a list-or-tuple of lists-or-tuples-or ndarrays with different lengths or shapes) is deprecated. If you meant to do this, you must specify 'dtype=object' when creating the ndarray.\n",
            "  ary = asanyarray(ary)\n"
          ]
        },
        {
          "output_type": "display_data",
          "data": {
            "text/plain": [
              "<Figure size 432x288 with 1 Axes>"
            ],
            "image/png": "[encoded data removed]"
          },
          "metadata": {
            "needs_background": "light"
          }
        }
      ]
    },
    {
      "cell_type": "code",
      "source": [
        "x = x1+x2+x3+x4+x5+x6+x7+x8+x9+x10\n",
        "t1 = list(np.linspace(0,2,10))\n",
        "t2 = list(np.linspace(2,3,11))\n",
        "t3 = list(np.linspace(3,7,10))\n",
        "t4 = list(np.linspace(7,9,11))\n",
        "t5 = list(np.linspace(9,13,10))\n",
        "t6 = list(np.linspace(13,15,11))\n",
        "t7 = list(np.linspace(15,19,10))\n",
        "t8 = list(np.linspace(19,21,11))\n",
        "t9 = list(np.linspace(21,25,10))\n",
        "t10 = list(np.linspace(25,27,11))\n",
        "t11 = list(np.linspace(27,31,10))\n",
        "t12 = list(np.linspace(31,33,11))\n",
        "t = t1+t2+t3+t4+t5+t6+t7+t8+t9+t10"
      ],
      "metadata": {
        "id": "-swUwLhzTJh0"
      },
      "execution_count": 245,
      "outputs": []
    },
    {
      "cell_type": "code",
      "source": [
        "plt.plot(t, x, color = 'b')\n",
        "\n",
        "plt.title(\"Shear Stress vs Shear Strain \")\n",
        "\n",
        "plt.xlabel(\"strain.  10^(-3)\")\n",
        "plt.ylabel(\"Shear Stress\")\n",
        "\n",
        "\n",
        "plt.grid()"
      ],
      "metadata": {
        "colab": {
          "base_uri": "https://localhost:8080/",
          "height": 347
        },
        "id": "yU5sPz9RTBSe",
        "outputId": "f1c070d7-ef9b-433b-f671-73c65a1e0903"
      },
      "execution_count": 246,
      "outputs": [
        {
          "output_type": "stream",
          "name": "stderr",
          "text": [
            "/usr/local/lib/python3.7/dist-packages/numpy/core/shape_base.py:65: VisibleDeprecationWarning: Creating an ndarray from ragged nested sequences (which is a list-or-tuple of lists-or-tuples-or ndarrays with different lengths or shapes) is deprecated. If you meant to do this, you must specify 'dtype=object' when creating the ndarray.\n",
            "  ary = asanyarray(ary)\n"
          ]
        },
        {
          "output_type": "display_data",
          "data": {
            "text/plain": [
              "<Figure size 432x288 with 1 Axes>"
            ],
            "image/png": "[encoded data removed]"
          },
          "metadata": {
            "needs_background": "light"
          }
        }
      ]
    },
    {
      "cell_type": "markdown",
      "source": [
        "11-12"
      ],
      "metadata": {
        "id": "X7oIbo_-TaXs"
      }
    },
    {
      "cell_type": "code",
      "source": [
        "x[-1]"
      ],
      "metadata": {
        "colab": {
          "base_uri": "https://localhost:8080/"
        },
        "outputId": "11e438de-e0bf-4f73-a1c3-ba458fda9efc",
        "id": "ukIKr0RoTYtM"
      },
      "execution_count": 247,
      "outputs": [
        {
          "output_type": "execute_result",
          "data": {
            "text/plain": [
              "267.734735346058"
            ]
          },
          "metadata": {},
          "execution_count": 247
        }
      ]
    },
    {
      "cell_type": "code",
      "source": [
        "i = 27\n",
        "T =3\n",
        "c = x[-1] - (E/((1-2*m)*(1+m)))*(sxe)*(1.5*(-ey)*i/T)\n",
        "c"
      ],
      "metadata": {
        "colab": {
          "base_uri": "https://localhost:8080/"
        },
        "outputId": "61479d05-f8f5-482f-b47b-23921cbbde79",
        "id": "wr342czjTYtQ"
      },
      "execution_count": 248,
      "outputs": [
        {
          "output_type": "execute_result",
          "data": {
            "text/plain": [
              "3642.734735346058"
            ]
          },
          "metadata": {},
          "execution_count": 248
        }
      ]
    },
    {
      "cell_type": "code",
      "source": [
        "x11 = []\n",
        "t1 = np.linspace(27, 31, 10)\n",
        "T =3\n",
        "for i in t1 :\n",
        "  def f(a): \n",
        "    p = (E/((1-2*m)*(1+m)))*(sxe)*(1.5*(-ey)*i/T) - a + c\n",
        "    return p\n",
        "  sol = fsolve(f,2)\n",
        "  x11.append(sol)\n",
        "print( x11[0])\n",
        "print( x11[-1])\n",
        "print( x11)\n"
      ],
      "metadata": {
        "colab": {
          "base_uri": "https://localhost:8080/"
        },
        "outputId": "2f2062ef-dc2a-4431-be17-c4cd836107c4",
        "id": "wZBIuMAATYtR"
      },
      "execution_count": 249,
      "outputs": [
        {
          "output_type": "stream",
          "name": "stdout",
          "text": [
            "[267.73473535]\n",
            "[-232.26526465]\n",
            "[array([267.73473535]), array([212.17917979]), array([156.62362423]), array([101.06806868]), array([45.51251312]), array([-10.04304243]), array([-65.59859799]), array([-121.15415354]), array([-176.7097091]), array([-232.26526465])]\n"
          ]
        }
      ]
    },
    {
      "cell_type": "code",
      "source": [
        "i = 27\n",
        "T =3\n",
        "c = 250.510955521375 -  (E/((1-2*m)*(1+m)))*(-sye)*(1.5*(ez)*i/T)\n",
        "c"
      ],
      "metadata": {
        "colab": {
          "base_uri": "https://localhost:8080/"
        },
        "outputId": "2acb04f5-02b7-4d24-bee4-11110c76d5d8",
        "id": "_wd5LjpaTYtS"
      },
      "execution_count": 250,
      "outputs": [
        {
          "output_type": "execute_result",
          "data": {
            "text/plain": [
              "3625.510955521375"
            ]
          },
          "metadata": {},
          "execution_count": 250
        }
      ]
    },
    {
      "cell_type": "code",
      "source": [
        "y5 = []\n",
        "t1 = np.linspace(27, 31, 10)\n",
        "T =3\n",
        "for i in t1 :\n",
        "  def f(a): \n",
        "    p = (E/((1-2*m)*(1+m)))*(sye)*(1.5*(-ez)*i/T) - a + c\n",
        "    return p\n",
        "  sol = fsolve(f,2)\n",
        "  y5.append(sol)\n",
        "print(y5[0])\n",
        "print(y5[-1])\n",
        "print(y5)\n"
      ],
      "metadata": {
        "colab": {
          "base_uri": "https://localhost:8080/"
        },
        "outputId": "9b31a099-67b9-4e76-ada6-a3fd63ba4b98",
        "id": "zR7bx-IlTYtS"
      },
      "execution_count": 251,
      "outputs": [
        {
          "output_type": "stream",
          "name": "stdout",
          "text": [
            "[250.51095552]\n",
            "[-249.48904448]\n",
            "[array([250.51095552]), array([194.95539997]), array([139.39984441]), array([83.84428885]), array([28.2887333]), array([-27.26682226]), array([-82.82237781]), array([-138.37793337]), array([-193.93348892]), array([-249.48904448])]\n"
          ]
        }
      ]
    },
    {
      "cell_type": "code",
      "source": [
        "x12 = [-232.265264650000,\n",
        "-235.975504340407,\n",
        "-239.654865386947,\n",
        "-243.304596545889,\n",
        "-246.925947157084,\n",
        "-250.520161471429,\n",
        "-254.088473614643,\n",
        "-257.632103161246,\n",
        "-261.152251287389,\n",
        "-264.650097467419,\n",
        "-268.126796676596]\n"
      ],
      "metadata": {
        "id": "wUaTSAgmTYtT"
      },
      "execution_count": 252,
      "outputs": []
    },
    {
      "cell_type": "code",
      "source": [
        "plt.plot(t11+t12,x11+x12)"
      ],
      "metadata": {
        "colab": {
          "base_uri": "https://localhost:8080/",
          "height": 334
        },
        "id": "p6FUf_2DVGi3",
        "outputId": "a06c2fa5-da15-474b-b548-e5733f397735"
      },
      "execution_count": 253,
      "outputs": [
        {
          "output_type": "stream",
          "name": "stderr",
          "text": [
            "/usr/local/lib/python3.7/dist-packages/numpy/core/shape_base.py:65: VisibleDeprecationWarning: Creating an ndarray from ragged nested sequences (which is a list-or-tuple of lists-or-tuples-or ndarrays with different lengths or shapes) is deprecated. If you meant to do this, you must specify 'dtype=object' when creating the ndarray.\n",
            "  ary = asanyarray(ary)\n"
          ]
        },
        {
          "output_type": "execute_result",
          "data": {
            "text/plain": [
              "[<matplotlib.lines.Line2D at 0x7fcce221ea10>]"
            ]
          },
          "metadata": {},
          "execution_count": 253
        },
        {
          "output_type": "display_data",
          "data": {
            "text/plain": [
              "<Figure size 432x288 with 1 Axes>"
            ],
            "image/png": "[encoded data removed]"
          },
          "metadata": {
            "needs_background": "light"
          }
        }
      ]
    },
    {
      "cell_type": "code",
      "source": [
        "plt.plot(e1, x1+x2, color = 'magenta')\n",
        "\n",
        "plt.plot(e2, x3+x4, color = 'red')\n",
        "\n",
        "plt.plot(e3, x5+x6, color = 'blue')\n",
        "\n",
        "plt.plot(e4, x7+x8, color = 'green')\n",
        "\n",
        "plt.plot(e5, x9+x10, color = 'black')\n",
        "\n",
        "plt.plot(e6, x11+x12, color = 'orange')\n",
        "plt.title(\"Stress in X Direction vs Strain \")\n",
        "\n",
        "plt.xlabel(\"Strain\")\n",
        "plt.ylabel(\"Stress in X Direction\")\n",
        "\n",
        "\n",
        "plt.grid()\n"
      ],
      "metadata": {
        "colab": {
          "base_uri": "https://localhost:8080/",
          "height": 347
        },
        "outputId": "ab0d7250-3f30-4647-ad80-b21bdea881c4",
        "id": "rc9ZutUXTYtT"
      },
      "execution_count": 260,
      "outputs": [
        {
          "output_type": "stream",
          "name": "stderr",
          "text": [
            "/usr/local/lib/python3.7/dist-packages/numpy/core/shape_base.py:65: VisibleDeprecationWarning: Creating an ndarray from ragged nested sequences (which is a list-or-tuple of lists-or-tuples-or ndarrays with different lengths or shapes) is deprecated. If you meant to do this, you must specify 'dtype=object' when creating the ndarray.\n",
            "  ary = asanyarray(ary)\n"
          ]
        },
        {
          "output_type": "display_data",
          "data": {
            "text/plain": [
              "<Figure size 432x288 with 1 Axes>"
            ],
            "image/png": "[encoded data removed]"
          },
          "metadata": {
            "needs_background": "light"
          }
        }
      ]
    },
    {
      "cell_type": "code",
      "source": [
        "len(e6)"
      ],
      "metadata": {
        "colab": {
          "base_uri": "https://localhost:8080/"
        },
        "id": "J3vDNuhXUoKn",
        "outputId": "c0402e6b-803f-4db0-f096-160384d63809"
      },
      "execution_count": 255,
      "outputs": [
        {
          "output_type": "execute_result",
          "data": {
            "text/plain": [
              "21"
            ]
          },
          "metadata": {},
          "execution_count": 255
        }
      ]
    },
    {
      "cell_type": "code",
      "source": [
        "x = x1+x2+x3+x4+x5+x6+x7+x8+x9+x10+x11+x12\n",
        "t1 = list(np.linspace(0,2,10))\n",
        "t2 = list(np.linspace(2,3,11))\n",
        "t3 = list(np.linspace(3,7,10))\n",
        "t4 = list(np.linspace(7,9,11))\n",
        "t5 = list(np.linspace(9,13,10))\n",
        "t6 = list(np.linspace(13,15,11))\n",
        "t7 = list(np.linspace(15,19,10))\n",
        "t8 = list(np.linspace(19,21,11))\n",
        "t9 = list(np.linspace(21,25,10))\n",
        "t10 = list(np.linspace(25,27,11))\n",
        "t11 = list(np.linspace(27,31,10))\n",
        "t12 = list(np.linspace(31,33,11))\n",
        "t = t1+t2+t3+t4+t5+t6+t7+t8+t9+t10+t11+t12"
      ],
      "metadata": {
        "id": "tnoBv46fTYtT"
      },
      "execution_count": 256,
      "outputs": []
    },
    {
      "cell_type": "code",
      "source": [
        "plt.plot(t, x, color = 'b')\n",
        "\n",
        "plt.title(\" Stress in X direction vs Time \")\n",
        "\n",
        "plt.xlabel(\"Time\")\n",
        "plt.ylabel(\"Stress in X direction\")\n",
        "\n",
        "\n",
        "plt.grid()"
      ],
      "metadata": {
        "colab": {
          "base_uri": "https://localhost:8080/",
          "height": 347
        },
        "outputId": "695209c0-6320-49ed-82aa-e81c77628503",
        "id": "bFbwaTkdTYtU"
      },
      "execution_count": 259,
      "outputs": [
        {
          "output_type": "stream",
          "name": "stderr",
          "text": [
            "/usr/local/lib/python3.7/dist-packages/numpy/core/shape_base.py:65: VisibleDeprecationWarning: Creating an ndarray from ragged nested sequences (which is a list-or-tuple of lists-or-tuples-or ndarrays with different lengths or shapes) is deprecated. If you meant to do this, you must specify 'dtype=object' when creating the ndarray.\n",
            "  ary = asanyarray(ary)\n"
          ]
        },
        {
          "output_type": "display_data",
          "data": {
            "text/plain": [
              "<Figure size 432x288 with 1 Axes>"
            ],
            "image/png": "[encoded data removed]"
          },
          "metadata": {
            "needs_background": "light"
          }
        }
      ]
    },
    {
      "cell_type": "code",
      "source": [
        ""
      ],
      "metadata": {
        "id": "KXiAR5YwS5ZQ"
      },
      "execution_count": 257,
      "outputs": []
    },
    {
      "cell_type": "code",
      "source": [
        ""
      ],
      "metadata": {
        "id": "Z_bNkEj_S5Ws"
      },
      "execution_count": 257,
      "outputs": []
    }
  ]
}