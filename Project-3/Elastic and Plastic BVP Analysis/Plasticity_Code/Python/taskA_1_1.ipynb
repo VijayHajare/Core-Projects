{
  "nbformat": 4,
  "nbformat_minor": 0,
  "metadata": {
    "colab": {
      "name": "taskA-1-1.ipynb",
      "provenance": []
    },
    "kernelspec": {
      "name": "python3",
      "display_name": "Python 3"
    },
    "language_info": {
      "name": "python"
    }
  },
  "cells": [
    {
      "cell_type": "code",
      "execution_count": null,
      "metadata": {
        "id": "4XnWvIE5wiW_"
      },
      "outputs": [],
      "source": [
        "import numpy as np\n",
        "import matplotlib.pyplot as plt\n",
        "import math \n",
        "from scipy.optimize import fsolve "
      ]
    },
    {
      "cell_type": "code",
      "source": [
        "E = 210000\n",
        "m = 0.3\n",
        "t = 2.5\n",
        "T = 10\n",
        "k = 300"
      ],
      "metadata": {
        "id": "bh1ogQuzwkHl"
      },
      "execution_count": null,
      "outputs": []
    },
    {
      "cell_type": "code",
      "source": [
        "ty = 250/np.sqrt(3)\n",
        "ey = ty/(E/(1+m))\n",
        "y = ty/75000\n",
        "ey\n",
        "ty"
      ],
      "metadata": {
        "colab": {
          "base_uri": "https://localhost:8080/"
        },
        "id": "7ULdcV1uwlvC",
        "outputId": "1ed1f8f6-e42a-4189-d7c6-33c4bdd38a8f"
      },
      "execution_count": null,
      "outputs": [
        {
          "output_type": "execute_result",
          "data": {
            "text/plain": [
              "144.33756729740645"
            ]
          },
          "metadata": {},
          "execution_count": 72
        }
      ]
    },
    {
      "cell_type": "code",
      "source": [
        "#ey = ty/(E/(2*(1+m)))\n",
        "ey"
      ],
      "metadata": {
        "colab": {
          "base_uri": "https://localhost:8080/"
        },
        "id": "8zKd4brhi01X",
        "outputId": "9c815aa1-784c-4b97-c54f-998eb8d2c91e"
      },
      "execution_count": null,
      "outputs": [
        {
          "output_type": "execute_result",
          "data": {
            "text/plain": [
              "0.001787036547491699"
            ]
          },
          "metadata": {},
          "execution_count": 65
        }
      ]
    },
    {
      "cell_type": "code",
      "source": [
        "x = []\n",
        "E = 210000\n",
        "m = 0.3\n",
        "t1 = np.linspace(2.5, 10, 10)\n",
        "T = 10\n",
        "k = 300\n",
        "\n",
        "for i in t1 :\n",
        "  def f(a): \n",
        "    p = (E/(k* np.sqrt(2)*(1+m)))* math.log(a/ty) + (a - ty) - ((E*4*ey)/(1+m))*((i- 2.5)/10)\n",
        "    return p\n",
        "  sol = fsolve(f,2)\n",
        "  x.append(sol)"
      ],
      "metadata": {
        "id": "4-9eT9Hewpex"
      },
      "execution_count": null,
      "outputs": []
    },
    {
      "cell_type": "code",
      "source": [
        "t1 = list(t1)\n",
        "t2 = list(t2)\n",
        "t = t2+t1"
      ],
      "metadata": {
        "id": "yXx3zg2r66TT"
      },
      "execution_count": null,
      "outputs": []
    },
    {
      "cell_type": "code",
      "source": [
        "t"
      ],
      "metadata": {
        "colab": {
          "base_uri": "https://localhost:8080/"
        },
        "id": "loZaCPjw7aoZ",
        "outputId": "e33fd151-caac-443f-88cc-24f99e219e95"
      },
      "execution_count": null,
      "outputs": [
        {
          "output_type": "execute_result",
          "data": {
            "text/plain": [
              "[0.0,\n",
              " 0.2777777777777778,\n",
              " 0.5555555555555556,\n",
              " 0.8333333333333334,\n",
              " 1.1111111111111112,\n",
              " 1.3888888888888888,\n",
              " 1.6666666666666667,\n",
              " 1.9444444444444446,\n",
              " 2.2222222222222223,\n",
              " 2.5,\n",
              " 2.5,\n",
              " 3.3333333333333335,\n",
              " 4.166666666666667,\n",
              " 5.0,\n",
              " 5.833333333333334,\n",
              " 6.666666666666667,\n",
              " 7.5,\n",
              " 8.333333333333334,\n",
              " 9.166666666666668,\n",
              " 10.0]"
            ]
          },
          "metadata": {},
          "execution_count": 75
        }
      ]
    },
    {
      "cell_type": "code",
      "source": [
        "t2 = np.linspace(0,2.5,10)\n",
        "tau_e = []\n",
        "for i in t2:\n",
        "  s = (E/(1+m))*0.4*ey*i \n",
        "  tau_e.append(s)\n",
        "print(tau_e)"
      ],
      "metadata": {
        "colab": {
          "base_uri": "https://localhost:8080/"
        },
        "id": "fcWIvTX5wre5",
        "outputId": "01b8b6de-1b1d-4245-86df-32245b49de5b"
      },
      "execution_count": null,
      "outputs": [
        {
          "output_type": "stream",
          "name": "stdout",
          "text": [
            "[0.0, 16.03750747748961, 32.07501495497922, 48.11252243246882, 64.15002990995843, 80.18753738744803, 96.22504486493764, 112.26255234242726, 128.30005981991687, 144.33756729740645]\n"
          ]
        }
      ]
    },
    {
      "cell_type": "code",
      "source": [
        "stress = tau_e +x"
      ],
      "metadata": {
        "id": "a1t_umAkxGBP"
      },
      "execution_count": null,
      "outputs": []
    },
    {
      "cell_type": "code",
      "source": [
        "xpoints = t\n",
        "ypoints = stress\n",
        "\n",
        "plt.plot(xpoints, ypoints)\n",
        "plt.xlabel(\"time\")\n",
        "plt.ylabel( \" Shear Stress\")\n",
        "plt.title(\"Shear Stress  vs Time\")\n",
        "plt.grid()\n",
        "plt.show()"
      ],
      "metadata": {
        "colab": {
          "base_uri": "https://localhost:8080/",
          "height": 347
        },
        "id": "AmPq_R_6zRjF",
        "outputId": "62f21889-56c8-4519-e234-08e1ff6afe79"
      },
      "execution_count": null,
      "outputs": [
        {
          "output_type": "stream",
          "name": "stderr",
          "text": [
            "/usr/local/lib/python3.7/dist-packages/numpy/core/shape_base.py:65: VisibleDeprecationWarning: Creating an ndarray from ragged nested sequences (which is a list-or-tuple of lists-or-tuples-or ndarrays with different lengths or shapes) is deprecated. If you meant to do this, you must specify 'dtype=object' when creating the ndarray.\n",
            "  ary = asanyarray(ary)\n"
          ]
        },
        {
          "output_type": "display_data",
          "data": {
            "text/plain": [
              "<Figure size 432x288 with 1 Axes>"
            ],
            "image/png": "[encoded data removed]"
          },
          "metadata": {
            "needs_background": "light"
          }
        }
      ]
    },
    {
      "cell_type": "code",
      "source": [
        "x"
      ],
      "metadata": {
        "colab": {
          "base_uri": "https://localhost:8080/"
        },
        "id": "X_lAyTOh0X5s",
        "outputId": "57e152e3-ab3f-4dae-c7eb-17623ad9e965"
      },
      "execution_count": null,
      "outputs": [
        {
          "output_type": "execute_result",
          "data": {
            "text/plain": [
              "[array([144.3375673]),\n",
              " array([158.00439282]),\n",
              " array([172.56137766]),\n",
              " array([188.01581352]),\n",
              " array([204.37052973]),\n",
              " array([221.62407375]),\n",
              " array([239.77097414]),\n",
              " array([258.80206886]),\n",
              " array([278.70488044]),\n",
              " array([299.4640202])]"
            ]
          },
          "metadata": {},
          "execution_count": 58
        }
      ]
    },
    {
      "cell_type": "code",
      "source": [
        "strain = []\n",
        "time = t\n",
        "for i in time:\n",
        "  s = 4*ey*(i/10)\n",
        "  strain.append(s)"
      ],
      "metadata": {
        "id": "vp0Y8gD504WA"
      },
      "execution_count": null,
      "outputs": []
    },
    {
      "cell_type": "code",
      "source": [
        "xpoints = t\n",
        "ypoints = strain\n",
        "\n",
        "plt.plot(xpoints, ypoints)\n",
        "plt.xlabel(\"time\")\n",
        "plt.ylabel( \" Shear strain\")\n",
        "plt.title(\"Shear strain  vs Time\")\n",
        "plt.grid()\n",
        "plt.show()"
      ],
      "metadata": {
        "colab": {
          "base_uri": "https://localhost:8080/",
          "height": 294
        },
        "id": "I-WkRyQt1N3K",
        "outputId": "d882fa50-ec42-4ac7-a735-1a8f50eca6ac"
      },
      "execution_count": null,
      "outputs": [
        {
          "output_type": "display_data",
          "data": {
            "text/plain": [
              "<Figure size 432x288 with 1 Axes>"
            ],
            "image/png": "[encoded data removed]"
          },
          "metadata": {
            "needs_background": "light"
          }
        }
      ]
    },
    {
      "cell_type": "code",
      "source": [
        "xpoints = strain\n",
        "ypoints = stress\n",
        "\n",
        "plt.plot(xpoints, ypoints)\n",
        "plt.xlabel(\"shear strain\")\n",
        "plt.ylabel( \" Shear stress\")\n",
        "plt.title(\"Pure Shear - Shear Stress  vs shear strain\")\n",
        "plt.grid()\n",
        "plt.show()"
      ],
      "metadata": {
        "colab": {
          "base_uri": "https://localhost:8080/",
          "height": 347
        },
        "id": "o66oLl9v1TVD",
        "outputId": "54294341-b898-4284-87a4-133bd4065480"
      },
      "execution_count": null,
      "outputs": [
        {
          "output_type": "stream",
          "name": "stderr",
          "text": [
            "/usr/local/lib/python3.7/dist-packages/numpy/core/shape_base.py:65: VisibleDeprecationWarning: Creating an ndarray from ragged nested sequences (which is a list-or-tuple of lists-or-tuples-or ndarrays with different lengths or shapes) is deprecated. If you meant to do this, you must specify 'dtype=object' when creating the ndarray.\n",
            "  ary = asanyarray(ary)\n"
          ]
        },
        {
          "output_type": "display_data",
          "data": {
            "text/plain": [
              "<Figure size 432x288 with 1 Axes>"
            ],
            "image/png": "[encoded data removed]"
          },
          "metadata": {
            "needs_background": "light"
          }
        }
      ]
    },
    {
      "cell_type": "code",
      "source": [
        ""
      ],
      "metadata": {
        "id": "Qniv8T_c1ZOf"
      },
      "execution_count": null,
      "outputs": []
    }
  ]
}