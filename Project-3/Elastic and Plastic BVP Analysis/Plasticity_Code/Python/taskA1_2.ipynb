{
  "nbformat": 4,
  "nbformat_minor": 0,
  "metadata": {
    "colab": {
      "name": "taskA1.2.ipynb",
      "provenance": []
    },
    "kernelspec": {
      "name": "python3",
      "display_name": "Python 3"
    },
    "language_info": {
      "name": "python"
    }
  },
  "cells": [
    {
      "cell_type": "code",
      "execution_count": 45,
      "metadata": {
        "id": "PDV2dfDLfGUY"
      },
      "outputs": [],
      "source": [
        "import numpy as np\n",
        "import matplotlib.pyplot as plt\n",
        "import math \n",
        "from scipy.optimize import fsolve "
      ]
    },
    {
      "cell_type": "code",
      "source": [
        "E = 210000\n",
        "m = 0.3\n",
        "ey = 0.8935182373*(10**(-3))"
      ],
      "metadata": {
        "id": "A_5WTxEghDrn"
      },
      "execution_count": 46,
      "outputs": []
    },
    {
      "cell_type": "code",
      "source": [
        "p1 = []\n",
        "time = list(np.linspace(0,2,10))\n",
        "for i in time:\n",
        "  s = 1.5*ey*(i/3)\n",
        "  p1.append(s)\n",
        "s1 = []\n",
        "ty1 = [2,\n",
        "2.10000000000000,\n",
        "2.20000000000000,\n",
        "2.30000000000000,\n",
        "2.40000000000000,\n",
        "2.50000000000000,\n",
        "2.60000000000000,\n",
        "2.70000000000000,\n",
        "2.80000000000000,\n",
        "2.90000000000000,\n",
        "3]\n",
        "ty2 = [7,\n",
        "7.20000000000000,\n",
        "7.40000000000000,\n",
        "7.60000000000000,\n",
        "7.80000000000000,\n",
        "8,\n",
        "8.20000000000000,\n",
        "8.40000000000000,\n",
        "8.60000000000000,\n",
        "8.80000000000000,\n",
        "9]\n",
        "for i in ty1:\n",
        "  s = 1.5*ey*(i/3)\n",
        "  p1.append(s)\n",
        "e1 = p1+s1"
      ],
      "metadata": {
        "id": "tTmBABS9fLTz"
      },
      "execution_count": 47,
      "outputs": []
    },
    {
      "cell_type": "code",
      "source": [
        "n = 1\n",
        "t1 = list(np.linspace(3, 7, 10))\n",
        "p2 = []\n",
        "for i in t1:\n",
        "  x = (-1)*(1.5 *(ey/3)* (i - (2*n-1)*3)- 1.5*ey)\n",
        "  p2.append(x)\n",
        "s2 = []\n",
        "for i in ty2:\n",
        "  x = (-1)*(1.5 *(ey/3)* (i - (2*n-1)*3)- 1.5*ey)\n",
        "  s2.append(x)\n",
        "e2 = p2+s2"
      ],
      "metadata": {
        "id": "kCP2pWV-hCo3"
      },
      "execution_count": 48,
      "outputs": []
    },
    {
      "cell_type": "code",
      "source": [
        "n = 2\n",
        "t2 = list(np.linspace(9, 13, 10))\n",
        "p3 = []\n",
        "for i in t2:\n",
        "  x = (1)*(1.5 *(ey/3)* (i - (2*n-1)*3)- 1.5*ey)\n",
        "  p3.append(x)\n",
        "ty3 = [13,\n",
        "13.2000000000000,\n",
        "13.4000000000000,\n",
        "13.6000000000000,\n",
        "13.8000000000000,\n",
        "14.0000000000000,\n",
        "14.2000000000000,\n",
        "14.4000000000000,\n",
        "14.6000000000000,\n",
        "14.8000000000000,\n",
        "15]\n",
        "s3 = []\n",
        "for i in ty3:\n",
        "  x = (1)*(1.5 *(ey/3)* (i - (2*n-1)*3)- 1.5*ey)\n",
        "  s3.append(x)\n",
        "e3 = p3+s3"
      ],
      "metadata": {
        "id": "Gf0ncvNyhk4z"
      },
      "execution_count": 49,
      "outputs": []
    },
    {
      "cell_type": "code",
      "source": [
        "n = 3\n",
        "t3 = list(np.linspace(15, 19, 10))\n",
        "p4 = []\n",
        "for i in t3:\n",
        "  x = (-1)*(1.5 *(ey/3)* (i - (2*n-1)*3)- 1.5*ey)\n",
        "  p4.append(x)\n",
        "s4 = []\n",
        "ty4 = [19,\n",
        "19.2000000000000,\n",
        "19.4000000000000,\n",
        "19.6000000000000,\n",
        "19.8000000000000,\n",
        "20.0000000000000,\n",
        "20.2000000000000,\n",
        "20.4000000000000,\n",
        "20.6000000000000,\n",
        "20.8000000000000,\n",
        "21]\n",
        "for i in ty4:\n",
        "  x = (-1)*(1.5 *(ey/3)* (i - (2*n-1)*3)- 1.5*ey)\n",
        "  s4.append(x)\n",
        "e4 = p4+s4"
      ],
      "metadata": {
        "id": "8HCSZpvOhp3x"
      },
      "execution_count": 50,
      "outputs": []
    },
    {
      "cell_type": "code",
      "source": [
        "n = 4\n",
        "t4 = list(np.linspace(21, 25, 10))\n",
        "p5 = []\n",
        "for i in t4:\n",
        "  x = (1)*(1.5 *(ey/3)* (i - (2*n-1)*3)- 1.5*ey)\n",
        "  p5.append(x)\n",
        "ty5 = [25,\n",
        "25.2000000000000,\n",
        "25.4000000000000,\n",
        "25.6000000000000,\n",
        "25.8000000000000,\n",
        "26.0000000000000,\n",
        "26.2000000000000,\n",
        "26.4000000000000,\n",
        "26.6000000000000,\n",
        "26.8000000000000,\n",
        "27]\n",
        "s5 = []\n",
        "for i in ty5:\n",
        "  x = (1)*(1.5 *(ey/3)* (i - (2*n-1)*3)- 1.5*ey)\n",
        "  s5.append(x)\n",
        "e5 = p5+s5"
      ],
      "metadata": {
        "id": "z4RX6r6Ivb4o"
      },
      "execution_count": 88,
      "outputs": []
    },
    {
      "cell_type": "code",
      "source": [
        "n = 5\n",
        "t6 = list(np.linspace(27, 31, 10))\n",
        "p6 = []\n",
        "for i in t6:\n",
        "  x = (-1)*(1.5 *(ey/3)* (i - (2*n-1)*3)- 1.5*ey)\n",
        "  p6.append(x)\n",
        "\n",
        "ty6 = [31,\n",
        "31.2000000000000,\n",
        "31.4000000000000,\n",
        "31.6000000000000,\n",
        "31.8000000000000,\n",
        "32.0000000000000,\n",
        "32.2000000000000,\n",
        "32.4000000000000,\n",
        "32.6000000000000,\n",
        "32.8000000000000,\n",
        "33]\n",
        "s6 = []\n",
        "for i in ty6:\n",
        "  x = (-1)*(1.5 *(ey/3)* (i - (2*n-1)*3)- 1.5*ey)\n",
        "  s6.append(x)\n",
        "e6 = p6+s6\n"
      ],
      "metadata": {
        "id": "EL1GxMYuvbwE"
      },
      "execution_count": 128,
      "outputs": []
    },
    {
      "cell_type": "code",
      "source": [
        "e = e1+e2+e3+e4+e5+e5"
      ],
      "metadata": {
        "id": "XauyqYrwhyAg"
      },
      "execution_count": 53,
      "outputs": []
    },
    {
      "cell_type": "markdown",
      "source": [
        "For Monotomic"
      ],
      "metadata": {
        "id": "D_peXNS_rdvL"
      }
    },
    {
      "cell_type": "code",
      "source": [
        "x1 = []\n",
        "t1 = np.linspace(0, 2, 10)\n",
        "T =3\n",
        "for i in t1 :\n",
        "  def f(a): \n",
        "    p = (E/((1+m)))*(1.5*ey*i/T) - a\n",
        "    return p\n",
        "  sol = fsolve(f,2)\n",
        "  x1.append(sol)\n",
        "print(x1)\n",
        "print(x1[0])\n",
        "print(x1[-1])"
      ],
      "metadata": {
        "id": "7anadgOc12wL",
        "colab": {
          "base_uri": "https://localhost:8080/"
        },
        "outputId": "bbb960d1-49fd-4150-a500-3bf389c47d60"
      },
      "execution_count": 97,
      "outputs": [
        {
          "output_type": "stream",
          "name": "stdout",
          "text": [
            "[array([0.]), array([16.03750682]), array([32.07501365]), array([48.11252047]), array([64.15002729]), array([80.18753412]), array([96.22504094]), array([112.26254776]), array([128.30005459]), array([144.33756141])]\n",
            "[0.]\n",
            "[144.33756141]\n"
          ]
        }
      ]
    },
    {
      "cell_type": "markdown",
      "source": [
        "Recurssion"
      ],
      "metadata": {
        "id": "wIPrGcJrAGcb"
      }
    },
    {
      "cell_type": "code",
      "source": [
        "x2 = [144.337561410000,\n",
        "144.861391967336,\n",
        "145.386431280154,\n",
        "145.912678949373,\n",
        "146.440134565607,\n",
        "146.968797709207,\n",
        "147.498667950309,\n",
        "148.029744848869,\n",
        "148.562027954716,\n",
        "149.095516807588,\n",
        "149.630210937184]\n",
        "x = x1+x2"
      ],
      "metadata": {
        "id": "6zzHeLli_hVq"
      },
      "execution_count": 98,
      "outputs": []
    },
    {
      "cell_type": "code",
      "source": [
        "i = 3\n",
        "T =3\n",
        "c = x[-1] - (E/(((1+m)))*(1.5*(-ey)*i/T))\n",
        "print(c)"
      ],
      "metadata": {
        "colab": {
          "base_uri": "https://localhost:8080/"
        },
        "id": "qi3ZLNct_2xk",
        "outputId": "76735fb9-13e7-4d73-a981-27d5849d2b60"
      },
      "execution_count": 99,
      "outputs": [
        {
          "output_type": "stream",
          "name": "stdout",
          "text": [
            "366.136553052184\n"
          ]
        }
      ]
    },
    {
      "cell_type": "code",
      "source": [
        "x3 = []\n",
        "t1 = np.linspace(3, 7, 10)\n",
        "T =3\n",
        "for i in t1 :\n",
        "  def f(a): \n",
        "    p = (E/((1+m))*(1.5*(-ey)*i/T)) - a + c\n",
        "    return p\n",
        "  sol = fsolve(f,2)\n",
        "  x3.append(sol)\n",
        "print(x3[0])\n",
        "print(x3[-1])\n",
        "print(x3)\n"
      ],
      "metadata": {
        "colab": {
          "base_uri": "https://localhost:8080/"
        },
        "id": "yJJAJnOL_6tp",
        "outputId": "0dcf51cf-f41f-45ec-ebc4-b23ad2252b03"
      },
      "execution_count": 100,
      "outputs": [
        {
          "output_type": "stream",
          "name": "stdout",
          "text": [
            "[149.63021094]\n",
            "[-139.04491188]\n",
            "[array([149.63021094]), array([117.55519729]), array([85.48018364]), array([53.40517]), array([21.33015635]), array([-10.7448573]), array([-42.81987094]), array([-74.89488459]), array([-106.96989824]), array([-139.04491188])]\n"
          ]
        }
      ]
    },
    {
      "cell_type": "code",
      "source": [
        "x4 = [-139.044911880000,\n",
        "-140.068997086655,\n",
        "-141.097930070689,\n",
        "-142.131708374071,\n",
        "-143.170329368414,\n",
        "-144.213790256271,\n",
        "-145.262088072463,\n",
        "-146.315219685411,\n",
        "-147.373181798503,\n",
        "-148.435970951463,\n",
        "-149.503583521753]"
      ],
      "metadata": {
        "id": "_4SweAeDAXu1"
      },
      "execution_count": 101,
      "outputs": []
    },
    {
      "cell_type": "code",
      "source": [
        "plt.plot(e1, x1+x2, color = 'magenta')\n",
        "\n",
        "plt.plot(e2, x3+x4, color = 'red')\n",
        "\n",
        "#plt.plot(e3, x5+x6, color = 'blue')\n",
        "\n",
        "#plt.plot(e3, x7+x8, color = 'green')\n",
        "\n",
        "#plt.plot(e4, x9+x10, color = 'black')\n",
        "\n",
        "#plt.plot(e5, x11+x12, color = 'orange')\n",
        "plt.title(\"Shear Stress vs Shear Strain \")\n",
        "plt.xlabel(\"strain.  10^(-3)\")\n",
        "plt.ylabel(\"Shear Stress\")\n",
        "\n",
        "\n",
        "plt.grid()"
      ],
      "metadata": {
        "colab": {
          "base_uri": "https://localhost:8080/",
          "height": 347
        },
        "id": "q-mJpVX9ArmR",
        "outputId": "cf815795-3588-4225-88e6-89f41e825466"
      },
      "execution_count": 102,
      "outputs": [
        {
          "output_type": "stream",
          "name": "stderr",
          "text": [
            "/usr/local/lib/python3.7/dist-packages/numpy/core/shape_base.py:65: VisibleDeprecationWarning: Creating an ndarray from ragged nested sequences (which is a list-or-tuple of lists-or-tuples-or ndarrays with different lengths or shapes) is deprecated. If you meant to do this, you must specify 'dtype=object' when creating the ndarray.\n",
            "  ary = asanyarray(ary)\n"
          ]
        },
        {
          "output_type": "display_data",
          "data": {
            "text/plain": [
              "<Figure size 432x288 with 1 Axes>"
            ],
            "image/png": "[encoded data removed]"
          },
          "metadata": {
            "needs_background": "light"
          }
        }
      ]
    },
    {
      "cell_type": "code",
      "source": [
        "x = x1+x2+x3+x4"
      ],
      "metadata": {
        "id": "2xkH-WjTDtwB"
      },
      "execution_count": 103,
      "outputs": []
    },
    {
      "cell_type": "markdown",
      "source": [
        "Next"
      ],
      "metadata": {
        "id": "DETujjQ0DmN9"
      }
    },
    {
      "cell_type": "code",
      "source": [
        "x[-1]"
      ],
      "metadata": {
        "colab": {
          "base_uri": "https://localhost:8080/"
        },
        "id": "je0xw4MxD275",
        "outputId": "ce7b8112-31f9-4654-bf7e-29e46819e54a"
      },
      "execution_count": 104,
      "outputs": [
        {
          "output_type": "execute_result",
          "data": {
            "text/plain": [
              "-149.503583521753"
            ]
          },
          "metadata": {},
          "execution_count": 104
        }
      ]
    },
    {
      "cell_type": "code",
      "source": [
        "i = 9\n",
        "T =3\n",
        "c = x[-1] - (E/(1+m))*(1.5*(ey)*i/T)\n",
        "c"
      ],
      "metadata": {
        "colab": {
          "base_uri": "https://localhost:8080/"
        },
        "outputId": "591c3588-7142-48f9-f287-fb381de9f539",
        "id": "jM73-5w5DkS0"
      },
      "execution_count": 105,
      "outputs": [
        {
          "output_type": "execute_result",
          "data": {
            "text/plain": [
              "-799.0226098667529"
            ]
          },
          "metadata": {},
          "execution_count": 105
        }
      ]
    },
    {
      "cell_type": "code",
      "source": [
        "x5 = []\n",
        "t1 = np.linspace(9, 13, 10)\n",
        "T =3\n",
        "for i in t1 :\n",
        "  def f(a): \n",
        "    p = (E/((1+m)))*(1.5*(ey)*i/T) - a + c\n",
        "    return p\n",
        "  sol = fsolve(f,2)\n",
        "  x5.append(sol)\n",
        "print(x5[0])\n",
        "print(x5[-1])\n",
        "print(x5)\n"
      ],
      "metadata": {
        "colab": {
          "base_uri": "https://localhost:8080/"
        },
        "outputId": "eefa573e-464f-46ca-ad0e-8c0b86d4b541",
        "id": "-VTS9gK3DkS0"
      },
      "execution_count": 106,
      "outputs": [
        {
          "output_type": "stream",
          "name": "stdout",
          "text": [
            "[-149.50358352]\n",
            "[139.1715393]\n",
            "[array([-149.50358352]), array([-117.42856988]), array([-85.35355623]), array([-53.27854258]), array([-21.20352894]), array([10.87148471]), array([42.94649836]), array([75.021512]), array([107.09652565]), array([139.1715393])]\n"
          ]
        }
      ]
    },
    {
      "cell_type": "code",
      "source": [
        "x6 = [139.171539300000,\n",
        "140.196225304471,\n",
        "141.225758791045,\n",
        "142.260137280514,\n",
        "143.299358123471,\n",
        "144.343418501616,\n",
        "145.392315429077,\n",
        "146.446045753752,\n",
        "147.504606158676,\n",
        "148.567993163392,\n",
        "149.636203125353]\n"
      ],
      "metadata": {
        "id": "HF2PH1ZKDkS3"
      },
      "execution_count": 107,
      "outputs": []
    },
    {
      "cell_type": "code",
      "source": [
        "plt.plot(e1, x1+x2, color = 'magenta')\n",
        "\n",
        "plt.plot(e2, x3+x4, color = 'red')\n",
        "\n",
        "plt.plot(e3, x5+x6, color = 'blue')\n",
        "\n",
        "#plt.plot(e3, x7+x8, color = 'green')\n",
        "\n",
        "#plt.plot(e4, x9+x10, color = 'black')\n",
        "\n",
        "#plt.plot(e5, x11+x12, color = 'orange')\n",
        "plt.title(\"Shear Stress vs Shear Strain \")\n",
        "plt.xlabel(\"Strain\")\n",
        "plt.ylabel(\"Shear Stress\")\n",
        "\n",
        "\n",
        "plt.grid()"
      ],
      "metadata": {
        "colab": {
          "base_uri": "https://localhost:8080/",
          "height": 347
        },
        "outputId": "68d79e3b-bb81-4bcd-96f8-1c20432433da",
        "id": "mZMVt2_QDkS3"
      },
      "execution_count": 137,
      "outputs": [
        {
          "output_type": "stream",
          "name": "stderr",
          "text": [
            "/usr/local/lib/python3.7/dist-packages/numpy/core/shape_base.py:65: VisibleDeprecationWarning: Creating an ndarray from ragged nested sequences (which is a list-or-tuple of lists-or-tuples-or ndarrays with different lengths or shapes) is deprecated. If you meant to do this, you must specify 'dtype=object' when creating the ndarray.\n",
            "  ary = asanyarray(ary)\n"
          ]
        },
        {
          "output_type": "display_data",
          "data": {
            "text/plain": [
              "<Figure size 432x288 with 1 Axes>"
            ],
            "image/png": "[encoded data removed]"
          },
          "metadata": {
            "needs_background": "light"
          }
        }
      ]
    },
    {
      "cell_type": "code",
      "source": [
        "x = x1+x2+x3+x4+x5+x6"
      ],
      "metadata": {
        "id": "4ePo5S7NGXs6"
      },
      "execution_count": 109,
      "outputs": []
    },
    {
      "cell_type": "markdown",
      "source": [
        "NEXT 7 8"
      ],
      "metadata": {
        "id": "tMEjP0AwGS6J"
      }
    },
    {
      "cell_type": "code",
      "source": [
        "x[-1]"
      ],
      "metadata": {
        "colab": {
          "base_uri": "https://localhost:8080/"
        },
        "outputId": "81ebdb1a-cf6e-4447-b218-47e691e6bd45",
        "id": "rt8nEpAkGft6"
      },
      "execution_count": 110,
      "outputs": [
        {
          "output_type": "execute_result",
          "data": {
            "text/plain": [
              "149.636203125353"
            ]
          },
          "metadata": {},
          "execution_count": 110
        }
      ]
    },
    {
      "cell_type": "code",
      "source": [
        "i = 15\n",
        "T =3\n",
        "c = x[-1] - (E/(((1+m)))*(1.5*(-ey)*i/T))\n",
        "c"
      ],
      "metadata": {
        "colab": {
          "base_uri": "https://localhost:8080/"
        },
        "outputId": "65157748-396a-477d-bbcf-e467e14e75d8",
        "id": "GBQHygodGft9"
      },
      "execution_count": 111,
      "outputs": [
        {
          "output_type": "execute_result",
          "data": {
            "text/plain": [
              "1232.167913700353"
            ]
          },
          "metadata": {},
          "execution_count": 111
        }
      ]
    },
    {
      "cell_type": "code",
      "source": [
        "x7 = []\n",
        "t1 = np.linspace(15, 19, 10)\n",
        "T =3\n",
        "for i in t1 :\n",
        "  def f(a): \n",
        "    p = (E/(((1+m)))*(1.5*(-ey)*i/T)) - a + c\n",
        "    return p\n",
        "  sol = fsolve(f,2)\n",
        "  x7.append(sol)\n",
        "print(x7[0])\n",
        "print(x7[-1])\n",
        "print(x7)\n"
      ],
      "metadata": {
        "colab": {
          "base_uri": "https://localhost:8080/"
        },
        "outputId": "90e1a50a-fa31-4126-e660-3e6a4c80b6a7",
        "id": "89HAruIwGft-"
      },
      "execution_count": 112,
      "outputs": [
        {
          "output_type": "stream",
          "name": "stdout",
          "text": [
            "[149.63620313]\n",
            "[-139.03891969]\n",
            "[array([149.63620313]), array([117.56118948]), array([85.48617583]), array([53.41116219]), array([21.33614854]), array([-10.73886511]), array([-42.81387875]), array([-74.8888924]), array([-106.96390605]), array([-139.03891969])]\n"
          ]
        }
      ]
    },
    {
      "cell_type": "code",
      "source": [
        "x8 = [-139.171539300000,\n",
        "-140.196225304471,\n",
        "-141.225758791045,\n",
        "-142.260137280514,\n",
        "-143.299358123471,\n",
        "-144.343418501616,\n",
        "-145.392315429077,\n",
        "-146.446045753752,\n",
        "-147.504606158676,\n",
        "-148.567993163392,\n",
        "-149.636203125353]\n"
      ],
      "metadata": {
        "id": "IAXtOk3IGfuA"
      },
      "execution_count": 113,
      "outputs": []
    },
    {
      "cell_type": "code",
      "source": [
        "plt.plot(e1, x1+x2, color = 'magenta')\n",
        "\n",
        "plt.plot(e2, x3+x4, color = 'red')\n",
        "\n",
        "plt.plot(e3, x5+x6, color = 'blue')\n",
        "\n",
        "plt.plot(e4, x7+x8, color = 'green')\n",
        "\n",
        "#plt.plot(e4, x9+x10, color = 'black')\n",
        "\n",
        "#plt.plot(e5, x11+x12, color = 'orange')\n",
        "plt.title(\"Shear Stress vs Shear Strain \")\n",
        "\n",
        "plt.xlabel(\"strain.  10^(-3)\")\n",
        "plt.ylabel(\"Shear Stress\")\n",
        "\n",
        "\n",
        "plt.grid()"
      ],
      "metadata": {
        "colab": {
          "base_uri": "https://localhost:8080/",
          "height": 347
        },
        "outputId": "ca065dfb-b3d8-435e-f65b-44242b818530",
        "id": "5w86h_XcGfuA"
      },
      "execution_count": 114,
      "outputs": [
        {
          "output_type": "stream",
          "name": "stderr",
          "text": [
            "/usr/local/lib/python3.7/dist-packages/numpy/core/shape_base.py:65: VisibleDeprecationWarning: Creating an ndarray from ragged nested sequences (which is a list-or-tuple of lists-or-tuples-or ndarrays with different lengths or shapes) is deprecated. If you meant to do this, you must specify 'dtype=object' when creating the ndarray.\n",
            "  ary = asanyarray(ary)\n"
          ]
        },
        {
          "output_type": "display_data",
          "data": {
            "text/plain": [
              "<Figure size 432x288 with 1 Axes>"
            ],
            "image/png": "[encoded data removed]"
          },
          "metadata": {
            "needs_background": "light"
          }
        }
      ]
    },
    {
      "cell_type": "code",
      "source": [
        "x = x1+x2+x3+x4+x5+x6+x7+x8"
      ],
      "metadata": {
        "id": "FD_BHptMGfuB"
      },
      "execution_count": 115,
      "outputs": []
    },
    {
      "cell_type": "markdown",
      "source": [
        "Next"
      ],
      "metadata": {
        "id": "LvomepahuPRa"
      }
    },
    {
      "cell_type": "code",
      "source": [
        "x[-1]"
      ],
      "metadata": {
        "colab": {
          "base_uri": "https://localhost:8080/"
        },
        "outputId": "3e6efd07-5217-4d1b-94cb-0b75839a9c05",
        "id": "eRMCnJ3VuPRb"
      },
      "execution_count": 116,
      "outputs": [
        {
          "output_type": "execute_result",
          "data": {
            "text/plain": [
              "-149.636203125353"
            ]
          },
          "metadata": {},
          "execution_count": 116
        }
      ]
    },
    {
      "cell_type": "code",
      "source": [
        "i = 21\n",
        "T =3\n",
        "c = x[-1] - (E/(1+m))*(1.5*(ey)*i/T)\n",
        "c"
      ],
      "metadata": {
        "colab": {
          "base_uri": "https://localhost:8080/"
        },
        "outputId": "fe57a772-1cd1-46a7-a541-d56c0c7d4960",
        "id": "00hpwW6wuPRc"
      },
      "execution_count": 117,
      "outputs": [
        {
          "output_type": "execute_result",
          "data": {
            "text/plain": [
              "-1665.1805979303529"
            ]
          },
          "metadata": {},
          "execution_count": 117
        }
      ]
    },
    {
      "cell_type": "code",
      "source": [
        "x9 = []\n",
        "t1 = np.linspace(21, 25, 10)\n",
        "T =3\n",
        "for i in t1 :\n",
        "  def f(a): \n",
        "    p = (E/((1+m)))*(1.5*(ey)*i/T) - a + c\n",
        "    return p\n",
        "  sol = fsolve(f,2)\n",
        "  x9.append(sol)\n",
        "print(x9[0])\n",
        "print(x9[-1])\n",
        "print(x9)\n"
      ],
      "metadata": {
        "colab": {
          "base_uri": "https://localhost:8080/"
        },
        "outputId": "c5eb32a2-1cab-429b-cf82-67c4fa4cffb7",
        "id": "MQXkk8LzuPRd"
      },
      "execution_count": 118,
      "outputs": [
        {
          "output_type": "stream",
          "name": "stdout",
          "text": [
            "[-149.63620313]\n",
            "[139.03891969]\n",
            "[array([-149.63620313]), array([-117.56118948]), array([-85.48617583]), array([-53.41116219]), array([-21.33614854]), array([10.73886511]), array([42.81387875]), array([74.8888924]), array([106.96390605]), array([139.03891969])]\n"
          ]
        }
      ]
    },
    {
      "cell_type": "code",
      "source": [
        "x10 = [139.038919690000,\n",
        "140.062976456416,\n",
        "141.091881014122,\n",
        "142.125630906092,\n",
        "143.164223504933,\n",
        "144.207656014186,\n",
        "145.255925469651,\n",
        "146.309028740723,\n",
        "147.366962531752,\n",
        "148.429723383419,\n",
        "149.497307674134]\n"
      ],
      "metadata": {
        "id": "jghx0QbUuPRd"
      },
      "execution_count": 119,
      "outputs": []
    },
    {
      "cell_type": "code",
      "source": [
        "plt.plot(e1, x1+x2, color = 'magenta')\n",
        "\n",
        "plt.plot(e2, x3+x4, color = 'red')\n",
        "\n",
        "plt.plot(e3, x5+x6, color = 'blue')\n",
        "\n",
        "plt.plot(e4, x7+x8, color = 'green')\n",
        "\n",
        "plt.plot(e5, x9+x10, color = 'black')\n",
        "\n",
        "#plt.plot(e5, x11+x12, color = 'orange')\n",
        "plt.title(\"Shear Stress vs Shear Strain \")\n",
        "plt.xlabel(\"strain.  10^(-3)\")\n",
        "plt.ylabel(\"Shear Stress\")\n",
        "\n",
        "\n",
        "plt.grid()"
      ],
      "metadata": {
        "colab": {
          "base_uri": "https://localhost:8080/",
          "height": 347
        },
        "outputId": "93d38b30-9837-44a4-d26b-5cee570da452",
        "id": "OAIAoSPduPRd"
      },
      "execution_count": 120,
      "outputs": [
        {
          "output_type": "stream",
          "name": "stderr",
          "text": [
            "/usr/local/lib/python3.7/dist-packages/numpy/core/shape_base.py:65: VisibleDeprecationWarning: Creating an ndarray from ragged nested sequences (which is a list-or-tuple of lists-or-tuples-or ndarrays with different lengths or shapes) is deprecated. If you meant to do this, you must specify 'dtype=object' when creating the ndarray.\n",
            "  ary = asanyarray(ary)\n"
          ]
        },
        {
          "output_type": "display_data",
          "data": {
            "text/plain": [
              "<Figure size 432x288 with 1 Axes>"
            ],
            "image/png": "[encoded data removed]"
          },
          "metadata": {
            "needs_background": "light"
          }
        }
      ]
    },
    {
      "cell_type": "code",
      "source": [
        "x = x1+x2+x3+x4+x5+x6+x7+x8+x9+x10"
      ],
      "metadata": {
        "id": "aeyu4OktuPRd"
      },
      "execution_count": 121,
      "outputs": []
    },
    {
      "cell_type": "markdown",
      "source": [
        "NEXT 11 12"
      ],
      "metadata": {
        "id": "1smbs2mDuPRe"
      }
    },
    {
      "cell_type": "code",
      "source": [
        "x[-1]"
      ],
      "metadata": {
        "colab": {
          "base_uri": "https://localhost:8080/"
        },
        "outputId": "0ea05813-65c3-4d63-9a20-4c43847bcdd6",
        "id": "ytMzWC7KvsXt"
      },
      "execution_count": 122,
      "outputs": [
        {
          "output_type": "execute_result",
          "data": {
            "text/plain": [
              "149.497307674134"
            ]
          },
          "metadata": {},
          "execution_count": 122
        }
      ]
    },
    {
      "cell_type": "code",
      "source": [
        "i = 27\n",
        "T =3\n",
        "c = x[-1] - (E/(((1+m)))*(1.5*(-ey)*i/T))\n",
        "c"
      ],
      "metadata": {
        "colab": {
          "base_uri": "https://localhost:8080/"
        },
        "outputId": "2c0abc82-2c95-49a5-a78d-a9d7517fe123",
        "id": "je-qHk0NvsXu"
      },
      "execution_count": 123,
      "outputs": [
        {
          "output_type": "execute_result",
          "data": {
            "text/plain": [
              "2098.054386709134"
            ]
          },
          "metadata": {},
          "execution_count": 123
        }
      ]
    },
    {
      "cell_type": "code",
      "source": [
        "x11 = []\n",
        "t1 = np.linspace(27, 31, 10)\n",
        "T =3\n",
        "for i in t1 :\n",
        "  def f(a): \n",
        "    p = (E/(((1+m)))*(1.5*(-ey)*i/T)) - a + c\n",
        "    return p\n",
        "  sol = fsolve(f,2)\n",
        "  x11.append(sol)\n",
        "print(x11[0])\n",
        "print(x11[-1])\n",
        "print(x11)\n"
      ],
      "metadata": {
        "colab": {
          "base_uri": "https://localhost:8080/"
        },
        "outputId": "96b22116-ed3c-45d0-fa4e-e092066c7cd3",
        "id": "4WxDIIxZvsXv"
      },
      "execution_count": 124,
      "outputs": [
        {
          "output_type": "stream",
          "name": "stdout",
          "text": [
            "[149.49730767]\n",
            "[-139.17781515]\n",
            "[array([149.49730767]), array([117.42229403]), array([85.34728038]), array([53.27226673]), array([21.19725309]), array([-10.87776056]), array([-42.95277421]), array([-75.02778785]), array([-107.1028015]), array([-139.17781515])]\n"
          ]
        }
      ]
    },
    {
      "cell_type": "code",
      "source": [
        "x12 = [-139.177815150000,\n",
        "-140.202530920832,\n",
        "-141.232094159069,\n",
        "-142.266502384454,\n",
        "-143.305752946539,\n",
        "-144.349843025991,\n",
        "-145.398769635914,\n",
        "-146.452529623190,\n",
        "-147.511119669845,\n",
        "-148.574536294423,\n",
        "-149.642775853386]\n"
      ],
      "metadata": {
        "id": "dS3BlIklvsXv"
      },
      "execution_count": 125,
      "outputs": []
    },
    {
      "cell_type": "code",
      "source": [
        "plt.plot(e1, x1+x2, color = 'magenta')\n",
        "\n",
        "plt.plot(e2, x3+x4, color = 'red')\n",
        "\n",
        "plt.plot(e3, x5+x6, color = 'blue')\n",
        "\n",
        "plt.plot(e4, x7+x8, color = 'green')\n",
        "\n",
        "plt.plot(e5, x9+x10, color = 'black')\n",
        "\n",
        "plt.plot(e6, x11+x12, color = 'orange')\n",
        "plt.title(\"Shear Stress vs Shear Strain \")\n",
        "\n",
        "plt.xlabel(\"Strain\")\n",
        "plt.ylabel(\"Shear Stress\")\n",
        "\n",
        "\n",
        "plt.grid()"
      ],
      "metadata": {
        "colab": {
          "base_uri": "https://localhost:8080/",
          "height": 347
        },
        "outputId": "7bb60e93-f9c2-451a-a636-5759b47f0c6a",
        "id": "8KfsTNnDvsXw"
      },
      "execution_count": 138,
      "outputs": [
        {
          "output_type": "stream",
          "name": "stderr",
          "text": [
            "/usr/local/lib/python3.7/dist-packages/numpy/core/shape_base.py:65: VisibleDeprecationWarning: Creating an ndarray from ragged nested sequences (which is a list-or-tuple of lists-or-tuples-or ndarrays with different lengths or shapes) is deprecated. If you meant to do this, you must specify 'dtype=object' when creating the ndarray.\n",
            "  ary = asanyarray(ary)\n"
          ]
        },
        {
          "output_type": "display_data",
          "data": {
            "text/plain": [
              "<Figure size 432x288 with 1 Axes>"
            ],
            "image/png": "[encoded data removed]"
          },
          "metadata": {
            "needs_background": "light"
          }
        }
      ]
    },
    {
      "cell_type": "code",
      "source": [
        "t1 = list(np.linspace(0,2,10))\n",
        "t2 = list(np.linspace(2,3,11))\n",
        "t3 = list(np.linspace(3,7,10))\n",
        "t4 = list(np.linspace(7,9,11))\n",
        "t5 = list(np.linspace(9,13,10))\n",
        "t6 = list(np.linspace(13,15,11))\n",
        "t7 = list(np.linspace(15,19,10))\n",
        "t8 = list(np.linspace(19,21,11))\n",
        "t9 = list(np.linspace(21,25,10))\n",
        "t10 = list(np.linspace(25,27,11))\n",
        "t11 = list(np.linspace(27,31,10))\n",
        "t12 = list(np.linspace(31,33,11))"
      ],
      "metadata": {
        "id": "8Xjglx82xTGl"
      },
      "execution_count": 133,
      "outputs": []
    },
    {
      "cell_type": "code",
      "source": [
        "x = x1+x2+x3+x4+x5+x6+x7+x8+x9+x10+x11+x12\n",
        "t = t1+t2+t3+t4+t5+t6+t7+t8+t9+t10+t11+t12"
      ],
      "metadata": {
        "id": "xzUCM6k8vsXw"
      },
      "execution_count": 134,
      "outputs": []
    },
    {
      "cell_type": "code",
      "source": [
        "plt.plot(t,x)\n",
        "plt.title(\"Shear Stress vs Time \")\n",
        "plt.xlabel(\"Time\")\n",
        "plt.ylabel(\"Shear Stress\")\n",
        "plt.grid()\n",
        "plt.show()"
      ],
      "metadata": {
        "colab": {
          "base_uri": "https://localhost:8080/",
          "height": 347
        },
        "id": "JhgE0XkZxdE2",
        "outputId": "c52f7043-e0a6-4215-92c3-3eb79c2452de"
      },
      "execution_count": 136,
      "outputs": [
        {
          "output_type": "stream",
          "name": "stderr",
          "text": [
            "/usr/local/lib/python3.7/dist-packages/numpy/core/shape_base.py:65: VisibleDeprecationWarning: Creating an ndarray from ragged nested sequences (which is a list-or-tuple of lists-or-tuples-or ndarrays with different lengths or shapes) is deprecated. If you meant to do this, you must specify 'dtype=object' when creating the ndarray.\n",
            "  ary = asanyarray(ary)\n"
          ]
        },
        {
          "output_type": "display_data",
          "data": {
            "text/plain": [
              "<Figure size 432x288 with 1 Axes>"
            ],
            "image/png": "[encoded data removed]"
          },
          "metadata": {
            "needs_background": "light"
          }
        }
      ]
    },
    {
      "cell_type": "markdown",
      "source": [
        "Next"
      ],
      "metadata": {
        "id": "_7vM8_JHvsXw"
      }
    }
  ]
}