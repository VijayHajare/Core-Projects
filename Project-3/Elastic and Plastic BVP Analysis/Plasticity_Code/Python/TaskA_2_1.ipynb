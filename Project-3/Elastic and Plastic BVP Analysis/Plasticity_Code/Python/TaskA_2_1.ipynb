{
  "nbformat": 4,
  "nbformat_minor": 0,
  "metadata": {
    "colab": {
      "name": "TaskA-2-1.ipynb",
      "provenance": []
    },
    "kernelspec": {
      "name": "python3",
      "display_name": "Python 3"
    },
    "language_info": {
      "name": "python"
    }
  },
  "cells": [
    {
      "cell_type": "code",
      "execution_count": 28,
      "metadata": {
        "id": "SsGMNohzvyWV"
      },
      "outputs": [],
      "source": [
        "import numpy as np\n",
        "import matplotlib.pyplot as plt\n",
        "import math \n",
        "from scipy.optimize import fsolve "
      ]
    },
    {
      "cell_type": "code",
      "source": [
        "E = 210000\n",
        "m = 0.3"
      ],
      "metadata": {
        "id": "aqpDz_01wCNX"
      },
      "execution_count": 29,
      "outputs": []
    },
    {
      "cell_type": "code",
      "source": [
        "ly = (E*m)/((1+m)*(1-2*m))\n",
        "ey_y= (250)/ly"
      ],
      "metadata": {
        "id": "156QcgENz3YT"
      },
      "execution_count": 30,
      "outputs": []
    },
    {
      "cell_type": "code",
      "source": [
        "x = []\n",
        "t1 = np.linspace(0, 1, 10)\n",
        "for i in t1 :\n",
        "  def f(a): \n",
        "    p = (E/((1-2*m)*(1+m)))*(1-m)*(10*ey*i/10) - a\n",
        "    return p\n",
        "  sol = fsolve(f,2)\n",
        "  x.append(sol)"
      ],
      "metadata": {
        "id": "JhoHfZ2EwEvZ"
      },
      "execution_count": 31,
      "outputs": []
    },
    {
      "cell_type": "code",
      "source": [
        "y = []\n",
        "t1 = np.linspace(0, 1, 10)\n",
        "for i in t1 :\n",
        "  def f(a): \n",
        "    p = (E/((1-2*m)*(1+m)))*(1-m)*(1.5*(ey)*i/3) - a\n",
        "    return p\n",
        "  sol = fsolve(f,-2)\n",
        "  y.append(sol)"
      ],
      "metadata": {
        "id": "reoBDozSwhBi"
      },
      "execution_count": 32,
      "outputs": []
    },
    {
      "cell_type": "code",
      "source": [
        "# From the Matlab\n",
        "xp =[250,\n",
        "269.924626058052,\n",
        "326.194060960196,\n",
        "381.499651350253,\n",
        "436.042357284658,\n",
        "489.981745104481,\n",
        "543.439435844440,\n",
        "596.507610441929,\n",
        "649.256644865302,\n",
        "701.740913587264,\n",
        "754.002990683482,\n",
        "787.905701280870]"
      ],
      "metadata": {
        "id": "b9S0r6F8yQUl"
      },
      "execution_count": 33,
      "outputs": []
    },
    {
      "cell_type": "code",
      "source": [
        "# From the Matlab\n",
        "tp = [1,\n",
        "1.65563045723651,\n",
        "2.55563045723651,\n",
        "3.45563045723651,\n",
        "4.35563045723651,\n",
        "5.25563045723651,\n",
        "6.15563045723651,\n",
        "7.05563045723651,\n",
        "7.95563045723651,\n",
        "8.85563045723651,\n",
        "9.75563045723651,\n",
        "10]"
      ],
      "metadata": {
        "id": "ZU1E0xz6yqou"
      },
      "execution_count": 34,
      "outputs": []
    },
    {
      "cell_type": "code",
      "source": [
        "time = list(t1)+tp\n",
        "stressX = x+xp"
      ],
      "metadata": {
        "id": "y75VuKF3zGdJ"
      },
      "execution_count": 35,
      "outputs": []
    },
    {
      "cell_type": "code",
      "source": [
        "p1 = []\n",
        "time = list(np.linspace(0,1,10))\n",
        "for i in time:\n",
        "  s = 1.5*ey*(i/3)\n",
        "  p1.append(s)\n",
        "\n",
        "s3 = []\n",
        "for i in tp:\n",
        "  x = 1.5*ey*(i/3)\n",
        "  s3.append(x)\n",
        "e = p1+s3"
      ],
      "metadata": {
        "id": "_YgbGqJ0m4HG"
      },
      "execution_count": 39,
      "outputs": []
    },
    {
      "cell_type": "code",
      "source": [
        "xpoints = e\n",
        "ypoints = stressX\n",
        "\n",
        "plt.plot(xpoints, ypoints)\n",
        "plt.xlabel(\"Strain\")\n",
        "plt.ylabel( \" Stress in X direction\")\n",
        "plt.title(\"Biaxial Stretching - Stress in X drection vs Strain\")\n",
        "plt.grid()\n",
        "plt.show()"
      ],
      "metadata": {
        "colab": {
          "base_uri": "https://localhost:8080/",
          "height": 347
        },
        "id": "SLlWco_8zMl5",
        "outputId": "eaf6fa34-7a1c-4a04-a4a1-f3d3a0069516"
      },
      "execution_count": 41,
      "outputs": [
        {
          "output_type": "stream",
          "name": "stderr",
          "text": [
            "/usr/local/lib/python3.7/dist-packages/numpy/core/shape_base.py:65: VisibleDeprecationWarning: Creating an ndarray from ragged nested sequences (which is a list-or-tuple of lists-or-tuples-or ndarrays with different lengths or shapes) is deprecated. If you meant to do this, you must specify 'dtype=object' when creating the ndarray.\n",
            "  ary = asanyarray(ary)\n"
          ]
        },
        {
          "output_type": "display_data",
          "data": {
            "text/plain": [
              "<Figure size 432x288 with 1 Axes>"
            ],
            "image/png": "[encoded data removed]"
          },
          "metadata": {
            "needs_background": "light"
          }
        }
      ]
    },
    {
      "cell_type": "code",
      "source": [
        ""
      ],
      "metadata": {
        "id": "beQ7BeTJmwgo"
      },
      "execution_count": null,
      "outputs": []
    }
  ]
}