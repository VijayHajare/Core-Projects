{
 "cells": [
  {
   "cell_type": "code",
   "execution_count": 183,
   "metadata": {
    "executionInfo": {
     "elapsed": 400,
     "status": "ok",
     "timestamp": 1650091183014,
     "user": {
      "displayName": "Swaroop Sonawane",
      "userId": "15920706029161713834"
     },
     "user_tz": -330
    },
    "id": "2F9FvD3U8JDQ"
   },
   "outputs": [],
   "source": [
    "import numpy as np\n",
    "from scipy.optimize import fsolve \n",
    "from scipy.integrate import odeint \n",
    "import matplotlib.pyplot as plt\n",
    "from scipy.integrate import solve_ivp"
   ]
  },
  {
   "cell_type": "code",
   "execution_count": 190,
   "metadata": {
    "executionInfo": {
     "elapsed": 597,
     "status": "ok",
     "timestamp": 1650091577385,
     "user": {
      "displayName": "Swaroop Sonawane",
      "userId": "15920706029161713834"
     },
     "user_tz": -330
    },
    "id": "vHE91CZB7s0j"
   },
   "outputs": [],
   "source": [
    "y1 = 1.2\n",
    "R = 1\n",
    "m = 0.5\n",
    "g = 2"
   ]
  },
  {
   "cell_type": "code",
   "execution_count": 191,
   "metadata": {
    "executionInfo": {
     "elapsed": 7,
     "status": "ok",
     "timestamp": 1650091577885,
     "user": {
      "displayName": "Swaroop Sonawane",
      "userId": "15920706029161713834"
     },
     "user_tz": -330
    },
    "id": "K9TNWNp08Nb-"
   },
   "outputs": [],
   "source": [
    "def f(y2):\n",
    " \n",
    "  srr = (-m*((1/y2**2+2*((R/y1)**2)*(y2*((y1/R)**2))))+(y2**2)*(((m*(((y2**2+2*((y1/R)**2))-1)/(y2*(y1/R)**2)))+g*(((y2**2+2*((y1/R)**2)-3)/2*(y2*(y1/R)**2)))))\n",
    "   +m* (y2*((y1/R)**2))/((y2)**2))\n",
    "  return srr"
   ]
  },
  {
   "cell_type": "code",
   "execution_count": 192,
   "metadata": {
    "colab": {
     "base_uri": "https://localhost:8080/"
    },
    "executionInfo": {
     "elapsed": 9,
     "status": "ok",
     "timestamp": 1650091579343,
     "user": {
      "displayName": "Swaroop Sonawane",
      "userId": "15920706029161713834"
     },
     "user_tz": -330
    },
    "id": "QC76zkjC8QMd",
    "outputId": "d2e66c76-a413-4477-e565-ab40e745e432"
   },
   "outputs": [
    {
     "name": "stdout",
     "output_type": "stream",
     "text": [
      "[0.67816568]\n"
     ]
    }
   ],
   "source": [
    "result = fsolve(f,10)\n",
    "print(result)"
   ]
  },
  {
   "cell_type": "code",
   "execution_count": 220,
   "metadata": {
    "executionInfo": {
     "elapsed": 516,
     "status": "ok",
     "timestamp": 1650092185231,
     "user": {
      "displayName": "Swaroop Sonawane",
      "userId": "15920706029161713834"
     },
     "user_tz": -330
    },
    "id": "Ut7IQ0HW1JAL"
   },
   "outputs": [],
   "source": [
    "y1_sol = [1.20000000000000,\n",
    "1.19861695996663,\n",
    "1.19723598699821,\n",
    "1.19585718050752,\n",
    "1.19448064153792,\n",
    "1.19310647281836,\n",
    "1.19173477876356,\n",
    "1.19036566547301,\n",
    "1.18899924069307,\n",
    "1.18763561390439,\n",
    "1.18627489635240,\n",
    "1.18491720104762,\n",
    "1.18356264275109,\n",
    "1.18221133793738,\n",
    "1.18086340488084,\n",
    "1.17951896367475,\n",
    "1.17817813623135,\n",
    "1.17684104624911,\n",
    "1.17550781918268,\n",
    "1.17417858232044,\n",
    "1.17285346479504,\n",
    "1.17153259758196,\n",
    "1.17021611344592,\n",
    "1.16890414692196,\n",
    "1.16759683437870,\n",
    "1.16629431402277,\n",
    "1.16499672589428,\n",
    "1.16370421179176,\n",
    "1.16241691526677,\n",
    "1.16113498166939,\n",
    "1.15985855814908,\n",
    "1.15858779364469,\n",
    "1.15732283879020,\n",
    "1.15606384592298,\n",
    "1.15481096911100,\n",
    "1.15356436415199,\n",
    "1.15232418855544,\n",
    "1.15109060143426,\n",
    "1.14986376352504,\n",
    "1.14864383719896,\n",
    "1.14743098646057,\n",
    "1.14622537691953,\n",
    "1.14502717567590,\n",
    "1.14383655134925,\n",
    "1.14265367407756,\n",
    "1.14147871551637,\n",
    "1.14031184879338,\n",
    "1.13915324840360,\n",
    "1.13800309025794,\n",
    "1.13686155166808]"
   ]
  },
  {
   "cell_type": "code",
   "execution_count": 221,
   "metadata": {
    "executionInfo": {
     "elapsed": 4,
     "status": "ok",
     "timestamp": 1650092187200,
     "user": {
      "displayName": "Swaroop Sonawane",
      "userId": "15920706029161713834"
     },
     "user_tz": -330
    },
    "id": "mO2D46eB_9_u"
   },
   "outputs": [],
   "source": [
    "y2_sol = [0.678180000000000,\n",
    "0.677191244313799,\n",
    "0.676154163466834,\n",
    "0.675067961641219,\n",
    "0.673931833833287,\n",
    "0.672744965957503,\n",
    "0.671506534851015,\n",
    "0.670215709114335,\n",
    "0.668871649958802,\n",
    "0.667473511464043,\n",
    "0.666020440889449,\n",
    "0.664511578696520,\n",
    "0.662946059688141,\n",
    "0.661323013762062,\n",
    "0.659641566370865,\n",
    "0.657900838823908,\n",
    "0.656099948346003,\n",
    "0.654238009501578,\n",
    "0.652314134824560,\n",
    "0.650327435452860,\n",
    "0.648277021392291,\n",
    "0.646162001632126,\n",
    "0.643981485796146,\n",
    "0.641734584630256,\n",
    "0.639420410742195,\n",
    "0.637038078808203,\n",
    "0.634586705761989,\n",
    "0.632065412569292,\n",
    "0.629473324561877,\n",
    "0.626809572180800,\n",
    "0.624073291118503,\n",
    "0.621263622584865,\n",
    "0.618379715064767,\n",
    "0.615420724487695,\n",
    "0.612385814857381,\n",
    "0.609274158334040,\n",
    "0.606084935557513,\n",
    "0.602817337229628,\n",
    "0.599470564099497,\n",
    "0.596043827369519,\n",
    "0.592536348731992,\n",
    "0.588947360694241,\n",
    "0.585276107840622,\n",
    "0.581521846591695,\n",
    "0.577683845308514,\n",
    "0.573761384302485,\n",
    "0.569753756124036,\n",
    "0.565660266275610,\n",
    "0.561480232629299,\n",
    "0.557212985381068]"
   ]
  },
  {
   "cell_type": "code",
   "execution_count": 245,
   "metadata": {
    "colab": {
     "base_uri": "https://localhost:8080/",
     "height": 294
    },
    "executionInfo": {
     "elapsed": 13,
     "status": "ok",
     "timestamp": 1650092832640,
     "user": {
      "displayName": "Swaroop Sonawane",
      "userId": "15920706029161713834"
     },
     "user_tz": -330
    },
    "id": "9nRImxcyAHFv",
    "outputId": "ad08979a-a23d-48f1-cce2-1d8642ed030c"
   },
   "outputs": [
    {
     "data": {
      "image/png": "[encoded data removed]",
      "text/plain": [
       "<Figure size 432x288 with 1 Axes>"
      ]
     },
     "metadata": {
      "needs_background": "light"
     },
     "output_type": "display_data"
    }
   ],
   "source": [
    "import matplotlib.pyplot as plt\n",
    "R_var = np.linspace(1,0.9,50)\n",
    "ypoints = y1_sol\n",
    "xpoints = R_var\n",
    "plt.plot(xpoints, ypoints)\n",
    "plt.grid()\n",
    "plt.ylabel(\"r\")\n",
    "plt.xlabel(\"R\")\n",
    "plt.title(\" r vs R \")\n",
    "plt.show()"
   ]
  },
  {
   "cell_type": "code",
   "execution_count": 224,
   "metadata": {
    "executionInfo": {
     "elapsed": 528,
     "status": "ok",
     "timestamp": 1650092230877,
     "user": {
      "displayName": "Swaroop Sonawane",
      "userId": "15920706029161713834"
     },
     "user_tz": -330
    },
    "id": "LHOJE8fOAK13"
   },
   "outputs": [],
   "source": [
    "stress = [] \n",
    "for y1,R,y2 in zip(y1_sol, R_var, y2_sol):\n",
    "  srr = (-m*((1/y2**2+2*((R/y1)**2)*(y2*((y1/R)**2))))+(y2**2)*(((m*(((y2**2+2*((y1/R)**2))-1)/(y2*(y1/R)**2)))+g*(((y2**2+2*((y1/R)**2)-3)/2*(y2*(y1/R)**2)))))\n",
    "   +m* (y2*((y1/R)**2))/((y2)**2))\n",
    "  stress.append(srr)\n",
    "  "
   ]
  },
  {
   "cell_type": "code",
   "execution_count": 244,
   "metadata": {
    "colab": {
     "base_uri": "https://localhost:8080/",
     "height": 294
    },
    "executionInfo": {
     "elapsed": 21,
     "status": "ok",
     "timestamp": 1650092753004,
     "user": {
      "displayName": "Swaroop Sonawane",
      "userId": "15920706029161713834"
     },
     "user_tz": -330
    },
    "id": "wkCyofaZAVxE",
    "outputId": "9b6da7eb-9596-47b2-ea04-4b0cff69b3d2"
   },
   "outputs": [
    {
     "data": {
      "image/png": "[encoded data removed]",
      "text/plain": [
       "<Figure size 432x288 with 1 Axes>"
      ]
     },
     "metadata": {
      "needs_background": "light"
     },
     "output_type": "display_data"
    }
   ],
   "source": [
    "import matplotlib.pyplot as plt\n",
    "\n",
    "ypoints = stress\n",
    "xpoints = R_var\n",
    "plt.plot(xpoints, ypoints, color = \"blue\", linewidth = 1)\n",
    "plt.ylabel(\"stress\")\n",
    "plt.xlabel(\"R\")\n",
    "plt.grid()\n",
    "plt.title(\" Stress vs R for value of ro\")\n",
    "plt.show()"
   ]
  },
  {
   "cell_type": "code",
   "execution_count": 170,
   "metadata": {
    "executionInfo": {
     "elapsed": 6,
     "status": "ok",
     "timestamp": 1650090016896,
     "user": {
      "displayName": "Swaroop Sonawane",
      "userId": "15920706029161713834"
     },
     "user_tz": -330
    },
    "id": "tHeCNwppAa8G"
   },
   "outputs": [],
   "source": [
    "R_var = np.linspace(1,0.9,50)"
   ]
  },
  {
   "cell_type": "code",
   "execution_count": null,
   "metadata": {
    "id": "DUpkiA-kA_VD"
   },
   "outputs": [],
   "source": [
    "  "
   ]
  }
 ],
 "metadata": {
  "colab": {
   "authorship_tag": "ABX9TyOY8U+5Ri+W74C5n3nNDxbG",
   "collapsed_sections": [],
   "name": "Elasticity-Part-B-Compressible.ipynb",
   "provenance": []
  },
  "kernelspec": {
   "display_name": "Python 3 (ipykernel)",
   "language": "python",
   "name": "python3"
  },
  "language_info": {
   "codemirror_mode": {
    "name": "ipython",
    "version": 3
   },
   "file_extension": ".py",
   "mimetype": "text/x-python",
   "name": "python",
   "nbconvert_exporter": "python",
   "pygments_lexer": "ipython3",
   "version": "3.9.12"
  }
 },
 "nbformat": 4,
 "nbformat_minor": 1
}
