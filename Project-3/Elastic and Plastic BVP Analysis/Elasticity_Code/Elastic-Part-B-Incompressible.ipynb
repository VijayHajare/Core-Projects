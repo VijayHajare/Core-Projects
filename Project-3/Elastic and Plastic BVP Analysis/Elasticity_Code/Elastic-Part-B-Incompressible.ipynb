{
 "cells": [
  {
   "cell_type": "code",
   "execution_count": 1,
   "metadata": {
    "executionInfo": {
     "elapsed": 15,
     "status": "ok",
     "timestamp": 1650279129220,
     "user": {
      "displayName": "Swaroop Sonawane",
      "userId": "15920706029161713834"
     },
     "user_tz": -330
    },
    "id": "w4kFKLEqwhQh"
   },
   "outputs": [],
   "source": [
    "import numpy as np"
   ]
  },
  {
   "cell_type": "code",
   "execution_count": 2,
   "metadata": {
    "executionInfo": {
     "elapsed": 10,
     "status": "ok",
     "timestamp": 1650279129221,
     "user": {
      "displayName": "Swaroop Sonawane",
      "userId": "15920706029161713834"
     },
     "user_tz": -330
    },
    "id": "cJ8_zE9qwjsd"
   },
   "outputs": [],
   "source": [
    "R0 = 1\n",
    "r0 = 1.2\n",
    "R_limit = np.linspace(0.9,1,100)"
   ]
  },
  {
   "cell_type": "code",
   "execution_count": 3,
   "metadata": {
    "executionInfo": {
     "elapsed": 3957,
     "status": "ok",
     "timestamp": 1650279133170,
     "user": {
      "displayName": "Swaroop Sonawane",
      "userId": "15920706029161713834"
     },
     "user_tz": -330
    },
    "id": "nViusmNMwpNB"
   },
   "outputs": [],
   "source": [
    "p_all = []\n",
    "for R in R_limit:\n",
    "  n = 1000\n",
    "  h = (R0-R)/n\n",
    "  #h =round(h,3)\n",
    "  R_all = []\n",
    "  i = 0\n",
    "  for i in range(n+1):\n",
    "    t = R+h*i\n",
    "    R_all.append(t)\n",
    "    i= i+1\n",
    "  y = [] #value of intergation function for different value of R in a given range of R0 to R\n",
    "  for R in R_all:\n",
    "    fun = (1/((R**3-R0**3+r0**3)**(1/3)))*((R**6)/(R**3-R0**3+r0**3)) - (((R**3-R0**3+r0**3)**(1/3))*((R**2)/((R**3-R0**3+r0**3)**(2/3)))/R**2) #function of integration\n",
    "    y.append(fun)\n",
    "  other_R_fun_value = np.sum(y)- y[0]-y[n]\n",
    "  I = h*(y[0]+y[n]+2*other_R_fun_value)\n",
    "  p = 0.838*(((R**2/((R**3-R0**3+r0**3)**(2/3))))**2) - I  \n",
    "  p_all.append(p)\n",
    "\n"
   ]
  },
  {
   "cell_type": "code",
   "execution_count": 4,
   "metadata": {
    "colab": {
     "base_uri": "https://localhost:8080/",
     "height": 294
    },
    "executionInfo": {
     "elapsed": 41,
     "status": "ok",
     "timestamp": 1650279133178,
     "user": {
      "displayName": "Swaroop Sonawane",
      "userId": "15920706029161713834"
     },
     "user_tz": -330
    },
    "id": "kQobFeEiwrBO",
    "outputId": "384a45d9-8e51-467e-b253-b73728cc4ee0"
   },
   "outputs": [
    {
     "data": {
      "image/png": "[encoded data removed]",
      "text/plain": [
       "<Figure size 432x288 with 1 Axes>"
      ]
     },
     "metadata": {
      "needs_background": "light"
     },
     "output_type": "display_data"
    }
   ],
   "source": [
    "import matplotlib.pyplot as plt\n",
    "xpoints = R_limit\n",
    "ypoints = p_all\n",
    "\n",
    "plt.plot(xpoints, ypoints)\n",
    "plt.xlabel(\"R \")\n",
    "plt.ylabel(\"p_all\")\n",
    "plt.title(\"R vs P \")\n",
    "plt.grid()\n",
    "plt.show()"
   ]
  },
  {
   "cell_type": "code",
   "execution_count": 5,
   "metadata": {
    "executionInfo": {
     "elapsed": 30,
     "status": "ok",
     "timestamp": 1650279133179,
     "user": {
      "displayName": "Swaroop Sonawane",
      "userId": "15920706029161713834"
     },
     "user_tz": -330
    },
    "id": "42XbnJdDwtFi"
   },
   "outputs": [],
   "source": [
    "srr_all = []\n",
    "for p,R in zip(p_all,R_limit):\n",
    "  srr = -p + 0.838*(((R**2)/((R**3-R0**3+r0**3)**(2/3)))**2)\n",
    "  srr_all.append(srr)"
   ]
  },
  {
   "cell_type": "code",
   "execution_count": null,
   "metadata": {
    "id": "Y6DJQtSlx4LT"
   },
   "outputs": [],
   "source": [
    "srr_all"
   ]
  },
  {
   "cell_type": "code",
   "execution_count": 7,
   "metadata": {
    "colab": {
     "base_uri": "https://localhost:8080/",
     "height": 294
    },
    "executionInfo": {
     "elapsed": 22,
     "status": "ok",
     "timestamp": 1650279133180,
     "user": {
      "displayName": "Swaroop Sonawane",
      "userId": "15920706029161713834"
     },
     "user_tz": -330
    },
    "id": "mZWw2wknx5fo",
    "outputId": "39efa65a-7b84-4231-907a-8f5e306e6c2b"
   },
   "outputs": [
    {
     "data": {
      "image/png": "[encoded data removed]",
      "text/plain": [
       "<Figure size 432x288 with 1 Axes>"
      ]
     },
     "metadata": {
      "needs_background": "light"
     },
     "output_type": "display_data"
    }
   ],
   "source": [
    "xpoints = R_limit\n",
    "ypoints = srr_all\n",
    "\n",
    "plt.plot(xpoints, ypoints)\n",
    "plt.xlabel(\"R \")\n",
    "plt.ylabel(\"Stress in Radial Direction\")\n",
    "plt.title(\"Stress in Radial Direction vs R \")\n",
    "plt.grid()\n",
    "plt.show()"
   ]
  },
  {
   "cell_type": "code",
   "execution_count": 8,
   "metadata": {
    "executionInfo": {
     "elapsed": 21,
     "status": "ok",
     "timestamp": 1650279133181,
     "user": {
      "displayName": "Swaroop Sonawane",
      "userId": "15920706029161713834"
     },
     "user_tz": -330
    },
    "id": "zOjtkuUKyH0g"
   },
   "outputs": [],
   "source": [
    "r_all = []\n",
    "for R in R_limit:\n",
    "  r = (R**3-R0**3+r0**3)**(1/3)\n",
    "  r_all.append(r)"
   ]
  },
  {
   "cell_type": "code",
   "execution_count": 9,
   "metadata": {
    "colab": {
     "base_uri": "https://localhost:8080/",
     "height": 294
    },
    "executionInfo": {
     "elapsed": 20,
     "status": "ok",
     "timestamp": 1650279133181,
     "user": {
      "displayName": "Swaroop Sonawane",
      "userId": "15920706029161713834"
     },
     "user_tz": -330
    },
    "id": "SwReHWlfzXHT",
    "outputId": "009387c8-268d-421e-b257-85c7935e80bd"
   },
   "outputs": [
    {
     "data": {
      "image/png": "[encoded data removed]",
      "text/plain": [
       "<Figure size 432x288 with 1 Axes>"
      ]
     },
     "metadata": {
      "needs_background": "light"
     },
     "output_type": "display_data"
    }
   ],
   "source": [
    "xpoints = R_limit\n",
    "ypoints = r_all\n",
    "\n",
    "plt.plot(xpoints, ypoints, color = \"green\")\n",
    "plt.xlabel(\"R \")\n",
    "plt.ylabel(\" r\")\n",
    "plt.title(\"r vs R \")\n",
    "plt.grid()\n",
    "plt.show()"
   ]
  },
  {
   "cell_type": "code",
   "execution_count": 9,
   "metadata": {
    "executionInfo": {
     "elapsed": 19,
     "status": "ok",
     "timestamp": 1650279133181,
     "user": {
      "displayName": "Swaroop Sonawane",
      "userId": "15920706029161713834"
     },
     "user_tz": -330
    },
    "id": "C4ZahNIE0CID"
   },
   "outputs": [],
   "source": []
  },
  {
   "cell_type": "code",
   "execution_count": 9,
   "metadata": {
    "executionInfo": {
     "elapsed": 19,
     "status": "ok",
     "timestamp": 1650279133182,
     "user": {
      "displayName": "Swaroop Sonawane",
      "userId": "15920706029161713834"
     },
     "user_tz": -330
    },
    "id": "7K1dqA-q0wkz"
   },
   "outputs": [],
   "source": []
  },
  {
   "cell_type": "code",
   "execution_count": 9,
   "metadata": {
    "executionInfo": {
     "elapsed": 18,
     "status": "ok",
     "timestamp": 1650279133182,
     "user": {
      "displayName": "Swaroop Sonawane",
      "userId": "15920706029161713834"
     },
     "user_tz": -330
    },
    "id": "7tJdbX9k1G7m"
   },
   "outputs": [],
   "source": []
  }
 ],
 "metadata": {
  "colab": {
   "authorship_tag": "ABX9TyNo8P2eG/s/YcbSRejW2ZbI",
   "name": "Elastic-Part-B-Incompressible.ipynb",
   "provenance": []
  },
  "kernelspec": {
   "display_name": "Python 3 (ipykernel)",
   "language": "python",
   "name": "python3"
  },
  "language_info": {
   "codemirror_mode": {
    "name": "ipython",
    "version": 3
   },
   "file_extension": ".py",
   "mimetype": "text/x-python",
   "name": "python",
   "nbconvert_exporter": "python",
   "pygments_lexer": "ipython3",
   "version": "3.9.12"
  }
 },
 "nbformat": 4,
 "nbformat_minor": 1
}
